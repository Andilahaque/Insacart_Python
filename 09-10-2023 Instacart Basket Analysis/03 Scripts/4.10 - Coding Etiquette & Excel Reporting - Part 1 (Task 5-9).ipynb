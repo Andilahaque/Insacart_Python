{
 "cells": [
  {
   "cell_type": "markdown",
   "id": "ed814940",
   "metadata": {},
   "source": [
    "# 4.10 - Final Report (Task 5-9)"
   ]
  },
  {
   "cell_type": "markdown",
   "id": "26d9e1be",
   "metadata": {},
   "source": [
    "# List of Content\n",
    "## 1. Import data\n",
    "## 2. Create a customer profiling variable\n",
    "### 2.1 Criteria for classification\n",
    "### 2.2 Create a profile flag in the dataframe\n",
    "### 2.3 Distribution of customer profiles\n",
    "### 2.4 Usage frequency and expenditure of the customer profiles\n",
    "## 3. Compare customer profiles with regions and departments\n",
    "### 3.1 Compare with regions\n",
    "### 3.2 Compare with departments(This part is in another notebook)\n",
    "## 4. Export data"
   ]
  },
  {
   "cell_type": "markdown",
   "id": "ead821d3",
   "metadata": {},
   "source": [
    "## 1 - Import Libraries"
   ]
  },
  {
   "cell_type": "code",
   "execution_count": 2,
   "id": "eb7a4ee4",
   "metadata": {},
   "outputs": [],
   "source": [
    "# Import libraries\n",
    "import pandas as pd\n",
    "import numpy as np\n",
    "import os\n",
    "import seaborn as sns\n",
    "import matplotlib.pyplot as plt\n",
    "import scipy\n",
    "%matplotlib inline"
   ]
  },
  {
   "cell_type": "markdown",
   "id": "ec7eca97",
   "metadata": {},
   "source": [
    "## 2. Import 'subset_customers_norm_activity' dataset"
   ]
  },
  {
   "cell_type": "code",
   "execution_count": 3,
   "id": "51070292",
   "metadata": {},
   "outputs": [],
   "source": [
    "# Assigning the folder path to a variable\n",
    "path = r\"C:\\Users\\Toshiba\\09-10-2023 Instacart Basket Analysis\""
   ]
  },
  {
   "cell_type": "code",
   "execution_count": 5,
   "id": "7c50ec4f",
   "metadata": {},
   "outputs": [],
   "source": [
    "# Import dataset\n",
    "df_active_customers = pd.read_pickle(os.path.join(path, '02 Data', 'Prepared Data', 'subset_customers_normal_activity.pkl'))"
   ]
  },
  {
   "cell_type": "code",
   "execution_count": 6,
   "id": "9043c495",
   "metadata": {},
   "outputs": [],
   "source": [
    "# Function to display all columns\n",
    "pd.set_option('display.max_columns', None)"
   ]
  },
  {
   "cell_type": "code",
   "execution_count": 7,
   "id": "3223e4ac",
   "metadata": {},
   "outputs": [
    {
     "data": {
      "text/html": [
       "<div>\n",
       "<style scoped>\n",
       "    .dataframe tbody tr th:only-of-type {\n",
       "        vertical-align: middle;\n",
       "    }\n",
       "\n",
       "    .dataframe tbody tr th {\n",
       "        vertical-align: top;\n",
       "    }\n",
       "\n",
       "    .dataframe thead th {\n",
       "        text-align: right;\n",
       "    }\n",
       "</style>\n",
       "<table border=\"1\" class=\"dataframe\">\n",
       "  <thead>\n",
       "    <tr style=\"text-align: right;\">\n",
       "      <th></th>\n",
       "      <th>order_id</th>\n",
       "      <th>user_id</th>\n",
       "      <th>order_number</th>\n",
       "      <th>orders_day_of_week</th>\n",
       "      <th>order_hour_of_day</th>\n",
       "      <th>days_since_prior_order</th>\n",
       "      <th>product_id</th>\n",
       "      <th>add_to_cart_order</th>\n",
       "      <th>reordered</th>\n",
       "      <th>product_name</th>\n",
       "      <th>aisle_id</th>\n",
       "      <th>department_id</th>\n",
       "      <th>prices</th>\n",
       "      <th>max_order</th>\n",
       "      <th>loyalty_flag</th>\n",
       "      <th>mean_order</th>\n",
       "      <th>spending_flag</th>\n",
       "      <th>median_order</th>\n",
       "      <th>customer_flag</th>\n",
       "      <th>gender</th>\n",
       "      <th>state</th>\n",
       "      <th>age</th>\n",
       "      <th>date_joined</th>\n",
       "      <th>num_of_dependants</th>\n",
       "      <th>marital_status</th>\n",
       "      <th>income</th>\n",
       "      <th>regions</th>\n",
       "      <th>user_activity_flag</th>\n",
       "    </tr>\n",
       "  </thead>\n",
       "  <tbody>\n",
       "    <tr>\n",
       "      <th>0</th>\n",
       "      <td>2539329</td>\n",
       "      <td>1</td>\n",
       "      <td>1</td>\n",
       "      <td>2</td>\n",
       "      <td>8</td>\n",
       "      <td>11.0</td>\n",
       "      <td>196</td>\n",
       "      <td>1</td>\n",
       "      <td>0</td>\n",
       "      <td>Soda</td>\n",
       "      <td>77</td>\n",
       "      <td>7</td>\n",
       "      <td>9.0</td>\n",
       "      <td>10</td>\n",
       "      <td>New customer</td>\n",
       "      <td>6.367797</td>\n",
       "      <td>Low Spender</td>\n",
       "      <td>20.0</td>\n",
       "      <td>Regular customer</td>\n",
       "      <td>Female</td>\n",
       "      <td>Alabama</td>\n",
       "      <td>31</td>\n",
       "      <td>2/17/2019</td>\n",
       "      <td>3</td>\n",
       "      <td>married</td>\n",
       "      <td>40423</td>\n",
       "      <td>South</td>\n",
       "      <td>Normal activity</td>\n",
       "    </tr>\n",
       "    <tr>\n",
       "      <th>1</th>\n",
       "      <td>2398795</td>\n",
       "      <td>1</td>\n",
       "      <td>2</td>\n",
       "      <td>3</td>\n",
       "      <td>7</td>\n",
       "      <td>15.0</td>\n",
       "      <td>196</td>\n",
       "      <td>1</td>\n",
       "      <td>1</td>\n",
       "      <td>Soda</td>\n",
       "      <td>77</td>\n",
       "      <td>7</td>\n",
       "      <td>9.0</td>\n",
       "      <td>10</td>\n",
       "      <td>New customer</td>\n",
       "      <td>6.367797</td>\n",
       "      <td>Low Spender</td>\n",
       "      <td>20.0</td>\n",
       "      <td>Regular customer</td>\n",
       "      <td>Female</td>\n",
       "      <td>Alabama</td>\n",
       "      <td>31</td>\n",
       "      <td>2/17/2019</td>\n",
       "      <td>3</td>\n",
       "      <td>married</td>\n",
       "      <td>40423</td>\n",
       "      <td>South</td>\n",
       "      <td>Normal activity</td>\n",
       "    </tr>\n",
       "    <tr>\n",
       "      <th>2</th>\n",
       "      <td>473747</td>\n",
       "      <td>1</td>\n",
       "      <td>3</td>\n",
       "      <td>3</td>\n",
       "      <td>12</td>\n",
       "      <td>21.0</td>\n",
       "      <td>196</td>\n",
       "      <td>1</td>\n",
       "      <td>1</td>\n",
       "      <td>Soda</td>\n",
       "      <td>77</td>\n",
       "      <td>7</td>\n",
       "      <td>9.0</td>\n",
       "      <td>10</td>\n",
       "      <td>New customer</td>\n",
       "      <td>6.367797</td>\n",
       "      <td>Low Spender</td>\n",
       "      <td>20.0</td>\n",
       "      <td>Regular customer</td>\n",
       "      <td>Female</td>\n",
       "      <td>Alabama</td>\n",
       "      <td>31</td>\n",
       "      <td>2/17/2019</td>\n",
       "      <td>3</td>\n",
       "      <td>married</td>\n",
       "      <td>40423</td>\n",
       "      <td>South</td>\n",
       "      <td>Normal activity</td>\n",
       "    </tr>\n",
       "    <tr>\n",
       "      <th>3</th>\n",
       "      <td>2254736</td>\n",
       "      <td>1</td>\n",
       "      <td>4</td>\n",
       "      <td>4</td>\n",
       "      <td>7</td>\n",
       "      <td>29.0</td>\n",
       "      <td>196</td>\n",
       "      <td>1</td>\n",
       "      <td>1</td>\n",
       "      <td>Soda</td>\n",
       "      <td>77</td>\n",
       "      <td>7</td>\n",
       "      <td>9.0</td>\n",
       "      <td>10</td>\n",
       "      <td>New customer</td>\n",
       "      <td>6.367797</td>\n",
       "      <td>Low Spender</td>\n",
       "      <td>20.0</td>\n",
       "      <td>Regular customer</td>\n",
       "      <td>Female</td>\n",
       "      <td>Alabama</td>\n",
       "      <td>31</td>\n",
       "      <td>2/17/2019</td>\n",
       "      <td>3</td>\n",
       "      <td>married</td>\n",
       "      <td>40423</td>\n",
       "      <td>South</td>\n",
       "      <td>Normal activity</td>\n",
       "    </tr>\n",
       "    <tr>\n",
       "      <th>4</th>\n",
       "      <td>431534</td>\n",
       "      <td>1</td>\n",
       "      <td>5</td>\n",
       "      <td>4</td>\n",
       "      <td>15</td>\n",
       "      <td>28.0</td>\n",
       "      <td>196</td>\n",
       "      <td>1</td>\n",
       "      <td>1</td>\n",
       "      <td>Soda</td>\n",
       "      <td>77</td>\n",
       "      <td>7</td>\n",
       "      <td>9.0</td>\n",
       "      <td>10</td>\n",
       "      <td>New customer</td>\n",
       "      <td>6.367797</td>\n",
       "      <td>Low Spender</td>\n",
       "      <td>20.0</td>\n",
       "      <td>Regular customer</td>\n",
       "      <td>Female</td>\n",
       "      <td>Alabama</td>\n",
       "      <td>31</td>\n",
       "      <td>2/17/2019</td>\n",
       "      <td>3</td>\n",
       "      <td>married</td>\n",
       "      <td>40423</td>\n",
       "      <td>South</td>\n",
       "      <td>Normal activity</td>\n",
       "    </tr>\n",
       "  </tbody>\n",
       "</table>\n",
       "</div>"
      ],
      "text/plain": [
       "   order_id  user_id  order_number  orders_day_of_week  order_hour_of_day  \\\n",
       "0   2539329        1             1                   2                  8   \n",
       "1   2398795        1             2                   3                  7   \n",
       "2    473747        1             3                   3                 12   \n",
       "3   2254736        1             4                   4                  7   \n",
       "4    431534        1             5                   4                 15   \n",
       "\n",
       "   days_since_prior_order  product_id  add_to_cart_order  reordered  \\\n",
       "0                    11.0         196                  1          0   \n",
       "1                    15.0         196                  1          1   \n",
       "2                    21.0         196                  1          1   \n",
       "3                    29.0         196                  1          1   \n",
       "4                    28.0         196                  1          1   \n",
       "\n",
       "  product_name  aisle_id  department_id  prices  max_order  loyalty_flag  \\\n",
       "0         Soda        77              7     9.0         10  New customer   \n",
       "1         Soda        77              7     9.0         10  New customer   \n",
       "2         Soda        77              7     9.0         10  New customer   \n",
       "3         Soda        77              7     9.0         10  New customer   \n",
       "4         Soda        77              7     9.0         10  New customer   \n",
       "\n",
       "   mean_order spending_flag  median_order     customer_flag  gender    state  \\\n",
       "0    6.367797   Low Spender          20.0  Regular customer  Female  Alabama   \n",
       "1    6.367797   Low Spender          20.0  Regular customer  Female  Alabama   \n",
       "2    6.367797   Low Spender          20.0  Regular customer  Female  Alabama   \n",
       "3    6.367797   Low Spender          20.0  Regular customer  Female  Alabama   \n",
       "4    6.367797   Low Spender          20.0  Regular customer  Female  Alabama   \n",
       "\n",
       "  age date_joined num_of_dependants marital_status  income regions  \\\n",
       "0  31   2/17/2019                 3        married   40423   South   \n",
       "1  31   2/17/2019                 3        married   40423   South   \n",
       "2  31   2/17/2019                 3        married   40423   South   \n",
       "3  31   2/17/2019                 3        married   40423   South   \n",
       "4  31   2/17/2019                 3        married   40423   South   \n",
       "\n",
       "  user_activity_flag  \n",
       "0    Normal activity  \n",
       "1    Normal activity  \n",
       "2    Normal activity  \n",
       "3    Normal activity  \n",
       "4    Normal activity  "
      ]
     },
     "execution_count": 7,
     "metadata": {},
     "output_type": "execute_result"
    }
   ],
   "source": [
    "# Check output\n",
    "df_active_customers.head()"
   ]
  },
  {
   "cell_type": "code",
   "execution_count": 8,
   "id": "107318d8",
   "metadata": {},
   "outputs": [
    {
     "data": {
      "text/plain": [
       "(30964564, 28)"
      ]
     },
     "execution_count": 8,
     "metadata": {},
     "output_type": "execute_result"
    }
   ],
   "source": [
    "# Check dimensions\n",
    "df_active_customers.shape"
   ]
  },
  {
   "cell_type": "markdown",
   "id": "fc37d9c6",
   "metadata": {},
   "source": [
    "## Importing the Departments wrangled data"
   ]
  },
  {
   "cell_type": "code",
   "execution_count": 7,
   "id": "42086b4f",
   "metadata": {},
   "outputs": [],
   "source": [
    "df_dep = pd.read_csv(os.path.join(path, '02 Data', 'Prepared Data', 'departments_wrangled.csv'), index_col = False)"
   ]
  },
  {
   "cell_type": "markdown",
   "id": "0a97fff4",
   "metadata": {},
   "source": [
    "# 2. Create a customer profiling variable"
   ]
  },
  {
   "cell_type": "markdown",
   "id": "1669c735",
   "metadata": {},
   "source": [
    "## 2.1 Criteria for classification"
   ]
  },
  {
   "cell_type": "code",
   "execution_count": 9,
   "id": "27a07581",
   "metadata": {},
   "outputs": [],
   "source": [
    "# Delete it later\n",
    "# Changing the datatype of age to int64\n",
    "df_active_customers['age'] = df_active_customers['age'].astype(str).astype(np.int64)"
   ]
  },
  {
   "cell_type": "code",
   "execution_count": 10,
   "id": "75173323",
   "metadata": {},
   "outputs": [
    {
     "data": {
      "text/plain": [
       "count    3.096456e+07\n",
       "mean     4.946803e+01\n",
       "std      1.848528e+01\n",
       "min      1.800000e+01\n",
       "25%      3.300000e+01\n",
       "50%      4.900000e+01\n",
       "75%      6.500000e+01\n",
       "max      8.100000e+01\n",
       "Name: age, dtype: float64"
      ]
     },
     "execution_count": 10,
     "metadata": {},
     "output_type": "execute_result"
    }
   ],
   "source": [
    "# Check the 'age' and 'fam_status' columns for general stats\n",
    "\n",
    "df_active_customers['age'].describe()"
   ]
  },
  {
   "cell_type": "code",
   "execution_count": 11,
   "id": "666c55e6",
   "metadata": {},
   "outputs": [
    {
     "data": {
      "text/plain": [
       "marital_status\n",
       "married                             21743711\n",
       "single                               5094410\n",
       "divorced/widowed                     2645271\n",
       "living with parents and siblings     1481172\n",
       "Name: count, dtype: int64"
      ]
     },
     "execution_count": 11,
     "metadata": {},
     "output_type": "execute_result"
    }
   ],
   "source": [
    "df_active_customers['marital_status'].value_counts()"
   ]
  },
  {
   "cell_type": "code",
   "execution_count": 12,
   "id": "e4b472a9",
   "metadata": {},
   "outputs": [
    {
     "data": {
      "text/plain": [
       "age\n",
       "60    112170\n",
       "61    128659\n",
       "62    118630\n",
       "63    130008\n",
       "64    133846\n",
       "65    116237\n",
       "66    106999\n",
       "67    124435\n",
       "68    119330\n",
       "69    114152\n",
       "70    117019\n",
       "71    120106\n",
       "72    115203\n",
       "73    126635\n",
       "74    115007\n",
       "75    123138\n",
       "76    111590\n",
       "77    114146\n",
       "78    122861\n",
       "79    119056\n",
       "80    117837\n",
       "81    138207\n",
       "Name: count, dtype: int64"
      ]
     },
     "execution_count": 12,
     "metadata": {},
     "output_type": "execute_result"
    }
   ],
   "source": [
    "df_active_customers[df_active_customers['marital_status'] == 'divorced/widowed']['age'].value_counts().sort_index()"
   ]
  },
  {
   "cell_type": "code",
   "execution_count": 13,
   "id": "c5299dac",
   "metadata": {},
   "outputs": [
    {
     "data": {
      "text/plain": [
       "age\n",
       "18    359202\n",
       "19    390496\n",
       "20    360065\n",
       "21    371409\n",
       "Name: count, dtype: int64"
      ]
     },
     "execution_count": 13,
     "metadata": {},
     "output_type": "execute_result"
    }
   ],
   "source": [
    "df_active_customers[df_active_customers['marital_status'] == 'living with parents and siblings']['age'].value_counts().sort_index()"
   ]
  },
  {
   "cell_type": "code",
   "execution_count": 14,
   "id": "dfe3428a",
   "metadata": {},
   "outputs": [
    {
     "data": {
      "text/plain": [
       "age\n",
       "22    362016\n",
       "23    371116\n",
       "24    375380\n",
       "25    321607\n",
       "26    373990\n",
       "27    357090\n",
       "28    359683\n",
       "29    367931\n",
       "30    360883\n",
       "31    375990\n",
       "32    361520\n",
       "33    349388\n",
       "34    360971\n",
       "35    382378\n",
       "36    345859\n",
       "37    374181\n",
       "38    368337\n",
       "39    355043\n",
       "40    363639\n",
       "41    331109\n",
       "42    366756\n",
       "43    372047\n",
       "44    374471\n",
       "45    368873\n",
       "46    345891\n",
       "47    379897\n",
       "48    389285\n",
       "49    377477\n",
       "50    363441\n",
       "51    371709\n",
       "52    354864\n",
       "53    356055\n",
       "54    380525\n",
       "55    361260\n",
       "56    383471\n",
       "57    351295\n",
       "58    347206\n",
       "59    351844\n",
       "60    349727\n",
       "61    334956\n",
       "62    355229\n",
       "63    344749\n",
       "64    370986\n",
       "65    348473\n",
       "66    347605\n",
       "67    348098\n",
       "68    381989\n",
       "69    375343\n",
       "70    363215\n",
       "71    343409\n",
       "72    364681\n",
       "73    372818\n",
       "74    362161\n",
       "75    376091\n",
       "76    365758\n",
       "77    363853\n",
       "78    348258\n",
       "79    389281\n",
       "80    374913\n",
       "81    347640\n",
       "Name: count, dtype: int64"
      ]
     },
     "execution_count": 14,
     "metadata": {},
     "output_type": "execute_result"
    }
   ],
   "source": [
    "df_active_customers[df_active_customers['marital_status'] == 'married']['age'].value_counts().sort_index()"
   ]
  },
  {
   "cell_type": "code",
   "execution_count": 15,
   "id": "e69e5200",
   "metadata": {},
   "outputs": [
    {
     "data": {
      "text/plain": [
       "age\n",
       "18    119255\n",
       "19    105581\n",
       "20    120129\n",
       "21    117707\n",
       "22    128795\n",
       "23    121815\n",
       "24    112228\n",
       "25    127717\n",
       "26    115902\n",
       "27    143981\n",
       "28    105148\n",
       "29    129360\n",
       "30    125754\n",
       "31    130228\n",
       "32    113156\n",
       "33    122943\n",
       "34    123859\n",
       "35    114132\n",
       "36    114790\n",
       "37    113437\n",
       "38    124453\n",
       "39    130205\n",
       "40    119684\n",
       "41    120160\n",
       "42    118325\n",
       "43    127682\n",
       "44    119986\n",
       "45    119215\n",
       "46    126680\n",
       "47    114155\n",
       "48    117445\n",
       "49    130402\n",
       "50    105335\n",
       "51    120509\n",
       "52    125565\n",
       "53    122949\n",
       "54    117292\n",
       "55    128473\n",
       "56    116109\n",
       "57    122362\n",
       "58    132636\n",
       "59    128871\n",
       "Name: count, dtype: int64"
      ]
     },
     "execution_count": 15,
     "metadata": {},
     "output_type": "execute_result"
    }
   ],
   "source": [
    "df_active_customers[df_active_customers['marital_status'] == 'single']['age'].value_counts().sort_index()"
   ]
  },
  {
   "cell_type": "markdown",
   "id": "462b9e74",
   "metadata": {},
   "source": [
    "##### I use the following classification for customer types based on age and family status: Young single (or living with parents and siblings)/married adult (age 18-39), Middle-aged single/married adult (40-59), Older single (or divorced/widowed)/married adult (60+)\n",
    "\n",
    "##### Notes:\n",
    "##### - The stats above show that only young adults appear in the category \"living with parents and siblings\" and only older adults in \"divorced/widowed\". These customers are thus integrated into their respective singles' category.\n"
   ]
  },
  {
   "cell_type": "markdown",
   "id": "1fe5d191",
   "metadata": {},
   "source": [
    "## 2.2 Create a profile flag in the dataframe"
   ]
  },
  {
   "cell_type": "code",
   "execution_count": 16,
   "id": "47e17eeb",
   "metadata": {},
   "outputs": [],
   "source": [
    "df = df_active_customers"
   ]
  },
  {
   "cell_type": "code",
   "execution_count": 17,
   "id": "dc51d536",
   "metadata": {},
   "outputs": [],
   "source": [
    "# Create a \"age_fam_profile\" column based on the criteria above\n",
    "\n",
    "df.loc[(df['age'] <= 39) & (df['marital_status'] == 'single') | (df['marital_status'] == 'living with parents and siblings'), 'age_fam_profile'] = 'Young single adult'"
   ]
  },
  {
   "cell_type": "code",
   "execution_count": 18,
   "id": "c67a1c5f",
   "metadata": {},
   "outputs": [],
   "source": [
    "df.loc[(df['age'] <= 39) & (df['marital_status'] == 'married'), 'age_fam_profile'] = 'Young married adult'"
   ]
  },
  {
   "cell_type": "code",
   "execution_count": 19,
   "id": "685dc8ff",
   "metadata": {},
   "outputs": [],
   "source": [
    "df.loc[(df['age'] >= 40) & (df['age'] <= 59) & (df['marital_status'] == 'single'), 'age_fam_profile'] = 'Middle-aged single adult'"
   ]
  },
  {
   "cell_type": "code",
   "execution_count": 20,
   "id": "df608aa5",
   "metadata": {},
   "outputs": [],
   "source": [
    "df.loc[(df['age'] >= 40) & (df['age'] <= 59) & (df['marital_status'] == 'married'), 'age_fam_profile'] = 'Middle-aged married adult'"
   ]
  },
  {
   "cell_type": "code",
   "execution_count": 21,
   "id": "65a932eb",
   "metadata": {},
   "outputs": [],
   "source": [
    "df.loc[(df['age'] >= 60) & (df['marital_status'] == 'single') | (df['marital_status'] == 'divorced/widowed'), 'age_fam_profile'] = 'Older single adult'"
   ]
  },
  {
   "cell_type": "code",
   "execution_count": 22,
   "id": "5d11baca",
   "metadata": {},
   "outputs": [],
   "source": [
    "df.loc[(df['age'] >= 60) & (df['marital_status'] == 'married'), 'age_fam_profile'] = 'Older married adult'"
   ]
  },
  {
   "cell_type": "code",
   "execution_count": 23,
   "id": "dcb50578",
   "metadata": {},
   "outputs": [
    {
     "data": {
      "text/plain": [
       "age_fam_profile\n",
       "Middle-aged married adult    7291115\n",
       "Middle-aged single adult     2433835\n",
       "Older married adult          7929233\n",
       "Older single adult           2645271\n",
       "Young married adult          6523363\n",
       "Young single adult           4141747\n",
       "Name: count, dtype: int64"
      ]
     },
     "execution_count": 23,
     "metadata": {},
     "output_type": "execute_result"
    }
   ],
   "source": [
    "# Frequency check on the new column\n",
    "\n",
    "df['age_fam_profile'].value_counts().sort_index()"
   ]
  },
  {
   "cell_type": "code",
   "execution_count": 24,
   "id": "393beae9",
   "metadata": {},
   "outputs": [
    {
     "data": {
      "text/plain": [
       "30964564"
      ]
     },
     "execution_count": 24,
     "metadata": {},
     "output_type": "execute_result"
    }
   ],
   "source": [
    "# Check non-NaN values\n",
    "\n",
    "df['age_fam_profile'].count()"
   ]
  },
  {
   "cell_type": "markdown",
   "id": "26ef7a2a",
   "metadata": {},
   "source": [
    "## 2.3 Distribution of customer profiles"
   ]
  },
  {
   "cell_type": "code",
   "execution_count": 25,
   "id": "c741f7d1",
   "metadata": {},
   "outputs": [],
   "source": [
    "# Define the desired order of the age-family profiles\n",
    "\n",
    "desired_order = ['Young single adult', 'Young married adult', 'Middle-aged single adult', \n",
    "                 'Middle-aged married adult', 'Older single adult', 'Older married adult']"
   ]
  },
  {
   "cell_type": "code",
   "execution_count": 26,
   "id": "fd05b861",
   "metadata": {},
   "outputs": [
    {
     "data": {
      "text/plain": [
       "age_fam_profile\n",
       "Young single adult           4141747\n",
       "Young married adult          6523363\n",
       "Middle-aged single adult     2433835\n",
       "Middle-aged married adult    7291115\n",
       "Older single adult           2645271\n",
       "Older married adult          7929233\n",
       "Name: count, dtype: int64"
      ]
     },
     "execution_count": 26,
     "metadata": {},
     "output_type": "execute_result"
    }
   ],
   "source": [
    "# Frequency check on the age-family profiles\n",
    "\n",
    "df['age_fam_profile'].value_counts()[desired_order]"
   ]
  },
  {
   "cell_type": "code",
   "execution_count": 27,
   "id": "8fd67f8d",
   "metadata": {},
   "outputs": [
    {
     "data": {
      "text/plain": [
       "Text(0.5, 0, 'Count in million')"
      ]
     },
     "execution_count": 27,
     "metadata": {},
     "output_type": "execute_result"
    },
    {
     "data": {
      "image/png": "[encoded data removed]",
      "text/plain": [
       "<Figure size 1600x1000 with 1 Axes>"
      ]
     },
     "metadata": {},
     "output_type": "display_data"
    }
   ],
   "source": [
    "# Create a horizontal bar chart\n",
    "\n",
    "bar_profile_distr = df['age_fam_profile'].value_counts()[desired_order].plot.barh(figsize=(16, 10))\n",
    "plt.title('Distribution of Age-Family Profiles')\n",
    "plt.ylabel('Age-Family Profiles')\n",
    "plt.xlabel('Count in million')"
   ]
  },
  {
   "cell_type": "markdown",
   "id": "81f32fef",
   "metadata": {},
   "source": [
    "##### The distribution reflects the total number of purchased items by the age-family profiles. It shows that married people buy more items than single people."
   ]
  },
  {
   "cell_type": "code",
   "execution_count": 29,
   "id": "b0db82b7",
   "metadata": {},
   "outputs": [],
   "source": [
    "# Export chart\n",
    "\n",
    "bar_profile_distr.figure.savefig(os.path.join(path, '04 Analysis','Visualizations', 'profile_distribution1.png'))"
   ]
  },
  {
   "cell_type": "markdown",
   "id": "172ebe98",
   "metadata": {},
   "source": [
    "## 2.4 Usage frequency and expenditure of the customer profiles"
   ]
  },
  {
   "cell_type": "code",
   "execution_count": 30,
   "id": "b73c6e29",
   "metadata": {},
   "outputs": [
    {
     "data": {
      "text/html": [
       "<div>\n",
       "<style scoped>\n",
       "    .dataframe tbody tr th:only-of-type {\n",
       "        vertical-align: middle;\n",
       "    }\n",
       "\n",
       "    .dataframe tbody tr th {\n",
       "        vertical-align: top;\n",
       "    }\n",
       "\n",
       "    .dataframe thead tr th {\n",
       "        text-align: left;\n",
       "    }\n",
       "\n",
       "    .dataframe thead tr:last-of-type th {\n",
       "        text-align: right;\n",
       "    }\n",
       "</style>\n",
       "<table border=\"1\" class=\"dataframe\">\n",
       "  <thead>\n",
       "    <tr>\n",
       "      <th></th>\n",
       "      <th colspan=\"3\" halign=\"left\">max_order</th>\n",
       "      <th colspan=\"3\" halign=\"left\">prices</th>\n",
       "    </tr>\n",
       "    <tr>\n",
       "      <th></th>\n",
       "      <th>mean</th>\n",
       "      <th>min</th>\n",
       "      <th>max</th>\n",
       "      <th>min</th>\n",
       "      <th>mean</th>\n",
       "      <th>max</th>\n",
       "    </tr>\n",
       "    <tr>\n",
       "      <th>age_fam_profile</th>\n",
       "      <th></th>\n",
       "      <th></th>\n",
       "      <th></th>\n",
       "      <th></th>\n",
       "      <th></th>\n",
       "      <th></th>\n",
       "    </tr>\n",
       "  </thead>\n",
       "  <tbody>\n",
       "    <tr>\n",
       "      <th>Young single adult</th>\n",
       "      <td>34.505344</td>\n",
       "      <td>5</td>\n",
       "      <td>99</td>\n",
       "      <td>1.0</td>\n",
       "      <td>11.547791</td>\n",
       "      <td>99999.0</td>\n",
       "    </tr>\n",
       "    <tr>\n",
       "      <th>Young married adult</th>\n",
       "      <td>34.502705</td>\n",
       "      <td>5</td>\n",
       "      <td>99</td>\n",
       "      <td>1.0</td>\n",
       "      <td>12.378119</td>\n",
       "      <td>99999.0</td>\n",
       "    </tr>\n",
       "    <tr>\n",
       "      <th>Middle-aged single adult</th>\n",
       "      <td>35.035972</td>\n",
       "      <td>5</td>\n",
       "      <td>99</td>\n",
       "      <td>1.0</td>\n",
       "      <td>12.928428</td>\n",
       "      <td>99999.0</td>\n",
       "    </tr>\n",
       "    <tr>\n",
       "      <th>Middle-aged married adult</th>\n",
       "      <td>34.209082</td>\n",
       "      <td>5</td>\n",
       "      <td>99</td>\n",
       "      <td>1.0</td>\n",
       "      <td>11.725969</td>\n",
       "      <td>99999.0</td>\n",
       "    </tr>\n",
       "    <tr>\n",
       "      <th>Older single adult</th>\n",
       "      <td>34.710676</td>\n",
       "      <td>5</td>\n",
       "      <td>99</td>\n",
       "      <td>1.0</td>\n",
       "      <td>11.532741</td>\n",
       "      <td>99999.0</td>\n",
       "    </tr>\n",
       "    <tr>\n",
       "      <th>Older married adult</th>\n",
       "      <td>34.237494</td>\n",
       "      <td>5</td>\n",
       "      <td>99</td>\n",
       "      <td>1.0</td>\n",
       "      <td>11.788405</td>\n",
       "      <td>99999.0</td>\n",
       "    </tr>\n",
       "  </tbody>\n",
       "</table>\n",
       "</div>"
      ],
      "text/plain": [
       "                           max_order         prices                    \n",
       "                                mean min max    min       mean      max\n",
       "age_fam_profile                                                        \n",
       "Young single adult         34.505344   5  99    1.0  11.547791  99999.0\n",
       "Young married adult        34.502705   5  99    1.0  12.378119  99999.0\n",
       "Middle-aged single adult   35.035972   5  99    1.0  12.928428  99999.0\n",
       "Middle-aged married adult  34.209082   5  99    1.0  11.725969  99999.0\n",
       "Older single adult         34.710676   5  99    1.0  11.532741  99999.0\n",
       "Older married adult        34.237494   5  99    1.0  11.788405  99999.0"
      ]
     },
     "execution_count": 30,
     "metadata": {},
     "output_type": "execute_result"
    }
   ],
   "source": [
    "# Mean, min, and max of the total order numbers and item prices\n",
    "\n",
    "df.groupby('age_fam_profile').agg({'max_order': ['mean', 'min', 'max'], 'prices': ['min', 'mean', 'max']}).loc[desired_order]"
   ]
  },
  {
   "cell_type": "markdown",
   "id": "f36520c3",
   "metadata": {},
   "source": [
    "##### The customer profiles behave quite similar when it comes to total order number of each customer and item price purchased by them."
   ]
  },
  {
   "cell_type": "code",
   "execution_count": 31,
   "id": "10ed135f",
   "metadata": {},
   "outputs": [
    {
     "data": {
      "text/html": [
       "<div>\n",
       "<style scoped>\n",
       "    .dataframe tbody tr th:only-of-type {\n",
       "        vertical-align: middle;\n",
       "    }\n",
       "\n",
       "    .dataframe tbody tr th {\n",
       "        vertical-align: top;\n",
       "    }\n",
       "\n",
       "    .dataframe thead th {\n",
       "        text-align: right;\n",
       "    }\n",
       "</style>\n",
       "<table border=\"1\" class=\"dataframe\">\n",
       "  <thead>\n",
       "    <tr style=\"text-align: right;\">\n",
       "      <th></th>\n",
       "      <th>prices</th>\n",
       "    </tr>\n",
       "    <tr>\n",
       "      <th>age_fam_profile</th>\n",
       "      <th></th>\n",
       "    </tr>\n",
       "  </thead>\n",
       "  <tbody>\n",
       "    <tr>\n",
       "      <th>Young single adult</th>\n",
       "      <td>47828030.6</td>\n",
       "    </tr>\n",
       "    <tr>\n",
       "      <th>Young married adult</th>\n",
       "      <td>80746963.1</td>\n",
       "    </tr>\n",
       "    <tr>\n",
       "      <th>Middle-aged single adult</th>\n",
       "      <td>31465661.7</td>\n",
       "    </tr>\n",
       "    <tr>\n",
       "      <th>Middle-aged married adult</th>\n",
       "      <td>85495388.4</td>\n",
       "    </tr>\n",
       "    <tr>\n",
       "      <th>Older single adult</th>\n",
       "      <td>30507224.5</td>\n",
       "    </tr>\n",
       "    <tr>\n",
       "      <th>Older married adult</th>\n",
       "      <td>93473013.3</td>\n",
       "    </tr>\n",
       "  </tbody>\n",
       "</table>\n",
       "</div>"
      ],
      "text/plain": [
       "                               prices\n",
       "age_fam_profile                      \n",
       "Young single adult         47828030.6\n",
       "Young married adult        80746963.1\n",
       "Middle-aged single adult   31465661.7\n",
       "Middle-aged married adult  85495388.4\n",
       "Older single adult         30507224.5\n",
       "Older married adult        93473013.3"
      ]
     },
     "execution_count": 31,
     "metadata": {},
     "output_type": "execute_result"
    }
   ],
   "source": [
    "# Total expenditure by the customer profiles\n",
    "\n",
    "df.groupby('age_fam_profile').agg({'prices': 'sum'}).loc[desired_order]"
   ]
  },
  {
   "cell_type": "markdown",
   "id": "6512f9d1",
   "metadata": {},
   "source": [
    "##### Married people spend more money in total than single people which is the same finding above that married people purchase more items than the single people."
   ]
  },
  {
   "cell_type": "code",
   "execution_count": 32,
   "id": "ec3446e1",
   "metadata": {},
   "outputs": [
    {
     "data": {
      "image/png": "[encoded data removed]",
      "text/plain": [
       "<Figure size 1600x1000 with 1 Axes>"
      ]
     },
     "metadata": {},
     "output_type": "display_data"
    }
   ],
   "source": [
    "# Create a horizontal bar chart\n",
    "\n",
    "bar_expend_profile = df.groupby('age_fam_profile').agg({'prices': 'sum'}).loc[desired_order].plot.barh(figsize=(16, 10))\n",
    "plt.title('Total Expenditure by Age-Family Profiles')\n",
    "plt.ylabel('Age-Family Profiles')\n",
    "plt.xlabel('Expenditure')\n",
    "plt.legend().remove()"
   ]
  },
  {
   "cell_type": "code",
   "execution_count": 33,
   "id": "70293b56",
   "metadata": {},
   "outputs": [],
   "source": [
    "# Export chart\n",
    "\n",
    "bar_expend_profile.figure.savefig(os.path.join(path, '04 Analysis','Visualizations', 'expenditure_profile1.png'))"
   ]
  },
  {
   "cell_type": "markdown",
   "id": "ea87cef7",
   "metadata": {},
   "source": [
    "# 3. Compare customer profiles with regions and departments"
   ]
  },
  {
   "cell_type": "code",
   "execution_count": 34,
   "id": "cd87301f",
   "metadata": {},
   "outputs": [],
   "source": [
    "# Crosstab customer profile with region\n",
    "\n",
    "crosstab_profile_region = pd.crosstab(df['age_fam_profile'], df['regions'], dropna = False).loc[desired_order]"
   ]
  },
  {
   "cell_type": "code",
   "execution_count": 35,
   "id": "02e34991",
   "metadata": {},
   "outputs": [
    {
     "data": {
      "text/html": [
       "<div>\n",
       "<style scoped>\n",
       "    .dataframe tbody tr th:only-of-type {\n",
       "        vertical-align: middle;\n",
       "    }\n",
       "\n",
       "    .dataframe tbody tr th {\n",
       "        vertical-align: top;\n",
       "    }\n",
       "\n",
       "    .dataframe thead th {\n",
       "        text-align: right;\n",
       "    }\n",
       "</style>\n",
       "<table border=\"1\" class=\"dataframe\">\n",
       "  <thead>\n",
       "    <tr style=\"text-align: right;\">\n",
       "      <th>regions</th>\n",
       "      <th>Midwest</th>\n",
       "      <th>Northeast</th>\n",
       "      <th>South</th>\n",
       "      <th>West</th>\n",
       "    </tr>\n",
       "    <tr>\n",
       "      <th>age_fam_profile</th>\n",
       "      <th></th>\n",
       "      <th></th>\n",
       "      <th></th>\n",
       "      <th></th>\n",
       "    </tr>\n",
       "  </thead>\n",
       "  <tbody>\n",
       "    <tr>\n",
       "      <th>Young single adult</th>\n",
       "      <td>967198</td>\n",
       "      <td>726591</td>\n",
       "      <td>1817369</td>\n",
       "      <td>630589</td>\n",
       "    </tr>\n",
       "    <tr>\n",
       "      <th>Young married adult</th>\n",
       "      <td>1515803</td>\n",
       "      <td>1145146</td>\n",
       "      <td>2824168</td>\n",
       "      <td>1038246</td>\n",
       "    </tr>\n",
       "    <tr>\n",
       "      <th>Middle-aged single adult</th>\n",
       "      <td>589855</td>\n",
       "      <td>405554</td>\n",
       "      <td>1043117</td>\n",
       "      <td>395309</td>\n",
       "    </tr>\n",
       "    <tr>\n",
       "      <th>Middle-aged married adult</th>\n",
       "      <td>1733214</td>\n",
       "      <td>1303165</td>\n",
       "      <td>3103307</td>\n",
       "      <td>1151429</td>\n",
       "    </tr>\n",
       "    <tr>\n",
       "      <th>Older single adult</th>\n",
       "      <td>617198</td>\n",
       "      <td>478767</td>\n",
       "      <td>1133003</td>\n",
       "      <td>416303</td>\n",
       "    </tr>\n",
       "    <tr>\n",
       "      <th>Older married adult</th>\n",
       "      <td>1838245</td>\n",
       "      <td>1405462</td>\n",
       "      <td>3460309</td>\n",
       "      <td>1225217</td>\n",
       "    </tr>\n",
       "  </tbody>\n",
       "</table>\n",
       "</div>"
      ],
      "text/plain": [
       "regions                    Midwest  Northeast    South     West\n",
       "age_fam_profile                                                \n",
       "Young single adult          967198     726591  1817369   630589\n",
       "Young married adult        1515803    1145146  2824168  1038246\n",
       "Middle-aged single adult    589855     405554  1043117   395309\n",
       "Middle-aged married adult  1733214    1303165  3103307  1151429\n",
       "Older single adult          617198     478767  1133003   416303\n",
       "Older married adult        1838245    1405462  3460309  1225217"
      ]
     },
     "execution_count": 35,
     "metadata": {},
     "output_type": "execute_result"
    }
   ],
   "source": [
    "crosstab_profile_region"
   ]
  },
  {
   "cell_type": "code",
   "execution_count": 36,
   "id": "837cd45e",
   "metadata": {},
   "outputs": [
    {
     "data": {
      "text/plain": [
       "<matplotlib.legend.Legend at 0x2378fd45a90>"
      ]
     },
     "execution_count": 36,
     "metadata": {},
     "output_type": "execute_result"
    },
    {
     "data": {
      "image/png": "[encoded data removed]",
      "text/plain": [
       "<Figure size 1600x800 with 1 Axes>"
      ]
     },
     "metadata": {},
     "output_type": "display_data"
    }
   ],
   "source": [
    "# Create a stacked bar chart\n",
    "\n",
    "bar_profile_region = crosstab_profile_region.plot.barh(figsize=(16, 8))\n",
    "\n",
    "plt.title('Distribution of Age-Family Profiles by Region')\n",
    "plt.ylabel(' ')\n",
    "plt.xlabel('Frequency of Product Orders')\n",
    "plt.legend(title='Region', loc='lower right')"
   ]
  },
  {
   "cell_type": "markdown",
   "id": "a310d742",
   "metadata": {},
   "source": [
    "##### Married people purchase more than single people across all four regions."
   ]
  },
  {
   "cell_type": "code",
   "execution_count": 37,
   "id": "ce3ebd63",
   "metadata": {},
   "outputs": [],
   "source": [
    "# Export chart\n",
    "\n",
    "bar_profile_region.figure.savefig(os.path.join(path, '04 Analysis','Visualizations', 'profile_region1.png'))"
   ]
  },
  {
   "cell_type": "markdown",
   "id": "fe1857d3",
   "metadata": {},
   "source": [
    "## 3.2 Compare with departments"
   ]
  },
  {
   "cell_type": "code",
   "execution_count": 44,
   "id": "cc2df3bc",
   "metadata": {},
   "outputs": [
    {
     "data": {
      "text/html": [
       "<div>\n",
       "<style scoped>\n",
       "    .dataframe tbody tr th:only-of-type {\n",
       "        vertical-align: middle;\n",
       "    }\n",
       "\n",
       "    .dataframe tbody tr th {\n",
       "        vertical-align: top;\n",
       "    }\n",
       "\n",
       "    .dataframe thead th {\n",
       "        text-align: right;\n",
       "    }\n",
       "</style>\n",
       "<table border=\"1\" class=\"dataframe\">\n",
       "  <thead>\n",
       "    <tr style=\"text-align: right;\">\n",
       "      <th></th>\n",
       "      <th>department_id</th>\n",
       "      <th>department</th>\n",
       "    </tr>\n",
       "  </thead>\n",
       "  <tbody>\n",
       "    <tr>\n",
       "      <th>0</th>\n",
       "      <td>1</td>\n",
       "      <td>frozen</td>\n",
       "    </tr>\n",
       "    <tr>\n",
       "      <th>1</th>\n",
       "      <td>2</td>\n",
       "      <td>other</td>\n",
       "    </tr>\n",
       "    <tr>\n",
       "      <th>2</th>\n",
       "      <td>3</td>\n",
       "      <td>bakery</td>\n",
       "    </tr>\n",
       "    <tr>\n",
       "      <th>3</th>\n",
       "      <td>4</td>\n",
       "      <td>produce</td>\n",
       "    </tr>\n",
       "    <tr>\n",
       "      <th>4</th>\n",
       "      <td>5</td>\n",
       "      <td>alcohol</td>\n",
       "    </tr>\n",
       "  </tbody>\n",
       "</table>\n",
       "</div>"
      ],
      "text/plain": [
       "   department_id department\n",
       "0              1     frozen\n",
       "1              2      other\n",
       "2              3     bakery\n",
       "3              4    produce\n",
       "4              5    alcohol"
      ]
     },
     "execution_count": 44,
     "metadata": {},
     "output_type": "execute_result"
    }
   ],
   "source": [
    "# Check the dataframe with the department names\n",
    "\n",
    "#df_dep.head()"
   ]
  },
  {
   "cell_type": "markdown",
   "id": "7d8f325c",
   "metadata": {},
   "source": [
    "# 4. Export data"
   ]
  },
  {
   "cell_type": "code",
   "execution_count": 38,
   "id": "953cfa3e",
   "metadata": {},
   "outputs": [],
   "source": [
    "df.to_pickle(os.path.join(path, '02 Data','Prepared Data', 'orders_products_cust_active_5_9.pkl'))"
   ]
  }
 ],
 "metadata": {
  "kernelspec": {
   "display_name": "Python 3 (ipykernel)",
   "language": "python",
   "name": "python3"
  },
  "language_info": {
   "codemirror_mode": {
    "name": "ipython",
    "version": 3
   },
   "file_extension": ".py",
   "mimetype": "text/x-python",
   "name": "python",
   "nbconvert_exporter": "python",
   "pygments_lexer": "ipython3",
   "version": "3.11.5"
  }
 },
 "nbformat": 4,
 "nbformat_minor": 5
}
