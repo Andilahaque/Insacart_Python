{
 "cells": [
  {
   "cell_type": "markdown",
   "id": "241825b1",
   "metadata": {},
   "source": [
    "# 4.9 - Part 1 Intro to Data Visualization with Python\n",
    "\n",
    "## Contents\n",
    "\n",
    "#### 1- Import the libraries\n",
    "#### 2- Import the customer dataset\n",
    "#### 3 - Wrangle the data in the above dataset\n",
    "#### 4- Check for and address missing values and duplicates, and convert any mixed-type data\n",
    "#### 5- Combine the customer data with the rest of the prepared Instacart data\n",
    "#### 6- Export the dataframe"
   ]
  },
  {
   "cell_type": "code",
   "execution_count": 1,
   "id": "131eeeab",
   "metadata": {},
   "outputs": [],
   "source": [
    "# Import Libraries\n",
    "import pandas as pd\n",
    "import numpy as np\n",
    "import os\n",
    "import matplotlib.pyplot as plt\n",
    "import seaborn as sns\n",
    "import scipy\n"
   ]
  },
  {
   "cell_type": "code",
   "execution_count": 2,
   "id": "bad8fe11",
   "metadata": {},
   "outputs": [],
   "source": [
    "# Assigning the folder path to a variable\n",
    "path = r\"C:\\Users\\Toshiba\\09-10-2023 Instacart Basket Analysis\""
   ]
  },
  {
   "cell_type": "code",
   "execution_count": 3,
   "id": "8d11abd4",
   "metadata": {},
   "outputs": [],
   "source": [
    "# Creating the customer dataframe with os library\n",
    "df_cust = pd.read_csv(os.path.join(path, '02 Data', 'Original Data', 'customers.csv'), index_col = False)"
   ]
  },
  {
   "cell_type": "code",
   "execution_count": 4,
   "id": "077beedf",
   "metadata": {},
   "outputs": [
    {
     "data": {
      "text/html": [
       "<div>\n",
       "<style scoped>\n",
       "    .dataframe tbody tr th:only-of-type {\n",
       "        vertical-align: middle;\n",
       "    }\n",
       "\n",
       "    .dataframe tbody tr th {\n",
       "        vertical-align: top;\n",
       "    }\n",
       "\n",
       "    .dataframe thead th {\n",
       "        text-align: right;\n",
       "    }\n",
       "</style>\n",
       "<table border=\"1\" class=\"dataframe\">\n",
       "  <thead>\n",
       "    <tr style=\"text-align: right;\">\n",
       "      <th></th>\n",
       "      <th>user_id</th>\n",
       "      <th>First Name</th>\n",
       "      <th>Surnam</th>\n",
       "      <th>Gender</th>\n",
       "      <th>STATE</th>\n",
       "      <th>Age</th>\n",
       "      <th>date_joined</th>\n",
       "      <th>n_dependants</th>\n",
       "      <th>fam_status</th>\n",
       "      <th>income</th>\n",
       "    </tr>\n",
       "  </thead>\n",
       "  <tbody>\n",
       "    <tr>\n",
       "      <th>0</th>\n",
       "      <td>26711</td>\n",
       "      <td>Deborah</td>\n",
       "      <td>Esquivel</td>\n",
       "      <td>Female</td>\n",
       "      <td>Missouri</td>\n",
       "      <td>48</td>\n",
       "      <td>1/1/2017</td>\n",
       "      <td>3</td>\n",
       "      <td>married</td>\n",
       "      <td>165665</td>\n",
       "    </tr>\n",
       "    <tr>\n",
       "      <th>1</th>\n",
       "      <td>33890</td>\n",
       "      <td>Patricia</td>\n",
       "      <td>Hart</td>\n",
       "      <td>Female</td>\n",
       "      <td>New Mexico</td>\n",
       "      <td>36</td>\n",
       "      <td>1/1/2017</td>\n",
       "      <td>0</td>\n",
       "      <td>single</td>\n",
       "      <td>59285</td>\n",
       "    </tr>\n",
       "    <tr>\n",
       "      <th>2</th>\n",
       "      <td>65803</td>\n",
       "      <td>Kenneth</td>\n",
       "      <td>Farley</td>\n",
       "      <td>Male</td>\n",
       "      <td>Idaho</td>\n",
       "      <td>35</td>\n",
       "      <td>1/1/2017</td>\n",
       "      <td>2</td>\n",
       "      <td>married</td>\n",
       "      <td>99568</td>\n",
       "    </tr>\n",
       "    <tr>\n",
       "      <th>3</th>\n",
       "      <td>125935</td>\n",
       "      <td>Michelle</td>\n",
       "      <td>Hicks</td>\n",
       "      <td>Female</td>\n",
       "      <td>Iowa</td>\n",
       "      <td>40</td>\n",
       "      <td>1/1/2017</td>\n",
       "      <td>0</td>\n",
       "      <td>single</td>\n",
       "      <td>42049</td>\n",
       "    </tr>\n",
       "    <tr>\n",
       "      <th>4</th>\n",
       "      <td>130797</td>\n",
       "      <td>Ann</td>\n",
       "      <td>Gilmore</td>\n",
       "      <td>Female</td>\n",
       "      <td>Maryland</td>\n",
       "      <td>26</td>\n",
       "      <td>1/1/2017</td>\n",
       "      <td>1</td>\n",
       "      <td>married</td>\n",
       "      <td>40374</td>\n",
       "    </tr>\n",
       "  </tbody>\n",
       "</table>\n",
       "</div>"
      ],
      "text/plain": [
       "   user_id First Name    Surnam  Gender       STATE  Age date_joined  \\\n",
       "0    26711    Deborah  Esquivel  Female    Missouri   48    1/1/2017   \n",
       "1    33890   Patricia      Hart  Female  New Mexico   36    1/1/2017   \n",
       "2    65803    Kenneth    Farley    Male       Idaho   35    1/1/2017   \n",
       "3   125935   Michelle     Hicks  Female        Iowa   40    1/1/2017   \n",
       "4   130797        Ann   Gilmore  Female    Maryland   26    1/1/2017   \n",
       "\n",
       "   n_dependants fam_status  income  \n",
       "0             3    married  165665  \n",
       "1             0     single   59285  \n",
       "2             2    married   99568  \n",
       "3             0     single   42049  \n",
       "4             1    married   40374  "
      ]
     },
     "execution_count": 4,
     "metadata": {},
     "output_type": "execute_result"
    }
   ],
   "source": [
    "df_cust.head()"
   ]
  },
  {
   "cell_type": "code",
   "execution_count": 53,
   "id": "1b382b57",
   "metadata": {},
   "outputs": [],
   "source": [
    "#Exercise 4.9 - Part 1 - Number 4 :\n",
    "\n",
    "#                 DATA WRANGLING\n",
    "# Wrangle the data so that it follows consistent logic; \n",
    "#for example, rename columns with illogical names and drop columns that don’t add anything to your analysis.\n",
    "\n",
    "\n",
    "#To Do:\n",
    "\n",
    "#change 'Surnam' to 'surname'\n",
    "#Change 'First Name' to 'first_name'\n",
    "#change 'STATE' to 'state'\n",
    "#change 'Gender' to lowercase 'gender'\n",
    "#change 'Age' to lowercase 'age'\n",
    "#change 'fam_status' to 'marital_status'\n",
    "#change 'Joining_date' to 'date_joined'\n",
    "#change 'No_of_dependants' to 'num_of_dependants'\n",
    "#change 'Income' to'income'\n",
    "#check for missing values\n",
    "#check for mixed types\n",
    "#check for duplicates\n",
    "\n",
    "\n",
    "# Renaming the columns with proper names\n",
    "\n",
    "df_cust.rename(columns = {'surnam' : 'surname'}, inplace = True)\n",
    "df_cust.rename(columns = {'First Name' : 'first_name'}, inplace = True)\n",
    "df_cust.rename(columns = {'Last Name' : 'last_name'}, inplace = True)\n",
    "df_cust.rename(columns = {'State': 'state'}, inplace = True)\n",
    "df_cust.rename(columns = {'Gender' : 'gender'}, inplace = True)\n",
    "df_cust.rename(columns = {'Age' : 'age'}, inplace = True)\n",
    "df_cust.rename(columns = {'Family_status' : 'marital_status'}, inplace = True)\n",
    "df_cust.rename(columns = {'Joining_date' : 'date_joined'}, inplace = True)\n",
    "df_cust.rename(columns = {'No_of_dependants' : 'num_of_dependants'}, inplace = True)\n",
    "df_cust.rename(columns = {'Income' : 'income'}, inplace = True)"
   ]
  },
  {
   "cell_type": "code",
   "execution_count": 54,
   "id": "4a2d8404",
   "metadata": {},
   "outputs": [
    {
     "data": {
      "text/html": [
       "<div>\n",
       "<style scoped>\n",
       "    .dataframe tbody tr th:only-of-type {\n",
       "        vertical-align: middle;\n",
       "    }\n",
       "\n",
       "    .dataframe tbody tr th {\n",
       "        vertical-align: top;\n",
       "    }\n",
       "\n",
       "    .dataframe thead th {\n",
       "        text-align: right;\n",
       "    }\n",
       "</style>\n",
       "<table border=\"1\" class=\"dataframe\">\n",
       "  <thead>\n",
       "    <tr style=\"text-align: right;\">\n",
       "      <th></th>\n",
       "      <th>user_id</th>\n",
       "      <th>first_name</th>\n",
       "      <th>last_name</th>\n",
       "      <th>gender</th>\n",
       "      <th>state</th>\n",
       "      <th>age</th>\n",
       "      <th>date_joined</th>\n",
       "      <th>num_of_dependants</th>\n",
       "      <th>marital_status</th>\n",
       "      <th>income</th>\n",
       "    </tr>\n",
       "  </thead>\n",
       "  <tbody>\n",
       "    <tr>\n",
       "      <th>0</th>\n",
       "      <td>26711</td>\n",
       "      <td>Deborah</td>\n",
       "      <td>Esquivel</td>\n",
       "      <td>Female</td>\n",
       "      <td>Missouri</td>\n",
       "      <td>48</td>\n",
       "      <td>1/1/2017</td>\n",
       "      <td>3</td>\n",
       "      <td>married</td>\n",
       "      <td>165665</td>\n",
       "    </tr>\n",
       "    <tr>\n",
       "      <th>1</th>\n",
       "      <td>33890</td>\n",
       "      <td>Patricia</td>\n",
       "      <td>Hart</td>\n",
       "      <td>Female</td>\n",
       "      <td>New Mexico</td>\n",
       "      <td>36</td>\n",
       "      <td>1/1/2017</td>\n",
       "      <td>0</td>\n",
       "      <td>single</td>\n",
       "      <td>59285</td>\n",
       "    </tr>\n",
       "    <tr>\n",
       "      <th>2</th>\n",
       "      <td>65803</td>\n",
       "      <td>Kenneth</td>\n",
       "      <td>Farley</td>\n",
       "      <td>Male</td>\n",
       "      <td>Idaho</td>\n",
       "      <td>35</td>\n",
       "      <td>1/1/2017</td>\n",
       "      <td>2</td>\n",
       "      <td>married</td>\n",
       "      <td>99568</td>\n",
       "    </tr>\n",
       "    <tr>\n",
       "      <th>3</th>\n",
       "      <td>125935</td>\n",
       "      <td>Michelle</td>\n",
       "      <td>Hicks</td>\n",
       "      <td>Female</td>\n",
       "      <td>Iowa</td>\n",
       "      <td>40</td>\n",
       "      <td>1/1/2017</td>\n",
       "      <td>0</td>\n",
       "      <td>single</td>\n",
       "      <td>42049</td>\n",
       "    </tr>\n",
       "    <tr>\n",
       "      <th>4</th>\n",
       "      <td>130797</td>\n",
       "      <td>Ann</td>\n",
       "      <td>Gilmore</td>\n",
       "      <td>Female</td>\n",
       "      <td>Maryland</td>\n",
       "      <td>26</td>\n",
       "      <td>1/1/2017</td>\n",
       "      <td>1</td>\n",
       "      <td>married</td>\n",
       "      <td>40374</td>\n",
       "    </tr>\n",
       "  </tbody>\n",
       "</table>\n",
       "</div>"
      ],
      "text/plain": [
       "   user_id first_name last_name  gender       state age date_joined  \\\n",
       "0    26711    Deborah  Esquivel  Female    Missouri  48    1/1/2017   \n",
       "1    33890   Patricia      Hart  Female  New Mexico  36    1/1/2017   \n",
       "2    65803    Kenneth    Farley    Male       Idaho  35    1/1/2017   \n",
       "3   125935   Michelle     Hicks  Female        Iowa  40    1/1/2017   \n",
       "4   130797        Ann   Gilmore  Female    Maryland  26    1/1/2017   \n",
       "\n",
       "  num_of_dependants marital_status  income  \n",
       "0                 3        married  165665  \n",
       "1                 0         single   59285  \n",
       "2                 2        married   99568  \n",
       "3                 0         single   42049  \n",
       "4                 1        married   40374  "
      ]
     },
     "execution_count": 54,
     "metadata": {},
     "output_type": "execute_result"
    }
   ],
   "source": [
    "#Checking if the names have been correctly changed\n",
    "\n",
    "df_cust.head()"
   ]
  },
  {
   "cell_type": "code",
   "execution_count": 7,
   "id": "223f85f1",
   "metadata": {},
   "outputs": [
    {
     "data": {
      "text/plain": [
       "(206209, 10)"
      ]
     },
     "execution_count": 7,
     "metadata": {},
     "output_type": "execute_result"
    }
   ],
   "source": [
    "df_cust.shape"
   ]
  },
  {
   "cell_type": "code",
   "execution_count": null,
   "id": "7416d78d",
   "metadata": {},
   "outputs": [],
   "source": [
    "# We can also check if the datatype is changed successfully for order_id by using the below command\n",
    "\n",
    "#df_cust['User_id'].dtype"
   ]
  },
  {
   "cell_type": "code",
   "execution_count": null,
   "id": "a4d8c419",
   "metadata": {},
   "outputs": [],
   "source": [
    "# I dont think that any column needs to be dropped from the customer dataframe. May be , I will need it for analysis in future."
   ]
  },
  {
   "cell_type": "code",
   "execution_count": null,
   "id": "ce430261",
   "metadata": {},
   "outputs": [],
   "source": [
    "                            # How to find the missing/blank values in a dataframe is below."
   ]
  },
  {
   "cell_type": "code",
   "execution_count": 40,
   "id": "2f5476bf",
   "metadata": {},
   "outputs": [
    {
     "data": {
      "text/plain": [
       "gender\n",
       "Male      104067\n",
       "Female    102142\n",
       "Name: count, dtype: int64"
      ]
     },
     "execution_count": 40,
     "metadata": {},
     "output_type": "execute_result"
    }
   ],
   "source": [
    "df_cust['gender'].value_counts(dropna = False)"
   ]
  },
  {
   "cell_type": "code",
   "execution_count": 41,
   "id": "9e93ffb0",
   "metadata": {},
   "outputs": [
    {
     "data": {
      "text/plain": [
       "state\n",
       "Florida                 4044\n",
       "Colorado                4044\n",
       "Illinois                4044\n",
       "Alabama                 4044\n",
       "District of Columbia    4044\n",
       "Hawaii                  4044\n",
       "Arizona                 4044\n",
       "Connecticut             4044\n",
       "California              4044\n",
       "Indiana                 4044\n",
       "Arkansas                4044\n",
       "Alaska                  4044\n",
       "Delaware                4044\n",
       "Iowa                    4044\n",
       "Idaho                   4044\n",
       "Georgia                 4044\n",
       "Wyoming                 4043\n",
       "Mississippi             4043\n",
       "Oklahoma                4043\n",
       "Utah                    4043\n",
       "New Hampshire           4043\n",
       "Kentucky                4043\n",
       "Maryland                4043\n",
       "Rhode Island            4043\n",
       "Massachusetts           4043\n",
       "Michigan                4043\n",
       "New Jersey              4043\n",
       "Kansas                  4043\n",
       "South Dakota            4043\n",
       "Minnesota               4043\n",
       "Tennessee               4043\n",
       "New York                4043\n",
       "Washington              4043\n",
       "Louisiana               4043\n",
       "Montana                 4043\n",
       "North Dakota            4043\n",
       "Wisconsin               4043\n",
       "Nebraska                4043\n",
       "Vermont                 4043\n",
       "Nevada                  4043\n",
       "Maine                   4043\n",
       "North Carolina          4043\n",
       "West Virginia           4043\n",
       "Virginia                4043\n",
       "Oregon                  4043\n",
       "New Mexico              4043\n",
       "Texas                   4043\n",
       "Pennsylvania            4043\n",
       "Ohio                    4043\n",
       "South Carolina          4043\n",
       "Missouri                4043\n",
       "Name: count, dtype: int64"
      ]
     },
     "execution_count": 41,
     "metadata": {},
     "output_type": "execute_result"
    }
   ],
   "source": [
    "df_cust['state'].value_counts(dropna = False)"
   ]
  },
  {
   "cell_type": "code",
   "execution_count": 42,
   "id": "741ed0d1",
   "metadata": {},
   "outputs": [
    {
     "data": {
      "text/plain": [
       "age\n",
       "19    3329\n",
       "55    3317\n",
       "51    3317\n",
       "56    3306\n",
       "32    3305\n",
       "      ... \n",
       "65    3145\n",
       "25    3127\n",
       "66    3114\n",
       "50    3102\n",
       "36    3101\n",
       "Name: count, Length: 64, dtype: int64"
      ]
     },
     "execution_count": 42,
     "metadata": {},
     "output_type": "execute_result"
    }
   ],
   "source": [
    "df_cust['age'].value_counts(dropna = False)"
   ]
  },
  {
   "cell_type": "code",
   "execution_count": 46,
   "id": "9cec99e2",
   "metadata": {},
   "outputs": [
    {
     "data": {
      "text/plain": [
       "date_joined\n",
       "9/17/2018     213\n",
       "2/10/2018     212\n",
       "4/1/2019      211\n",
       "9/21/2019     211\n",
       "12/19/2017    210\n",
       "             ... \n",
       "9/1/2018      141\n",
       "1/22/2018     140\n",
       "11/24/2017    139\n",
       "7/18/2019     138\n",
       "8/6/2018      128\n",
       "Name: count, Length: 1187, dtype: int64"
      ]
     },
     "execution_count": 46,
     "metadata": {},
     "output_type": "execute_result"
    }
   ],
   "source": [
    "df_cust['date_joined'].value_counts(dropna = False)"
   ]
  },
  {
   "cell_type": "code",
   "execution_count": 51,
   "id": "4c04375b",
   "metadata": {},
   "outputs": [
    {
     "data": {
      "text/plain": [
       "num_of_dependants\n",
       "0    51602\n",
       "3    51594\n",
       "1    51531\n",
       "2    51482\n",
       "Name: count, dtype: int64"
      ]
     },
     "execution_count": 51,
     "metadata": {},
     "output_type": "execute_result"
    }
   ],
   "source": [
    "df_cust['num_of_dependants'].value_counts(dropna = False)"
   ]
  },
  {
   "cell_type": "code",
   "execution_count": 55,
   "id": "2e30ed0d",
   "metadata": {},
   "outputs": [
    {
     "data": {
      "text/plain": [
       "marital_status\n",
       "married                             144906\n",
       "single                               33962\n",
       "divorced/widowed                     17640\n",
       "living with parents and siblings      9701\n",
       "Name: count, dtype: int64"
      ]
     },
     "execution_count": 55,
     "metadata": {},
     "output_type": "execute_result"
    }
   ],
   "source": [
    "df_cust['marital_status'].value_counts(dropna = False)"
   ]
  },
  {
   "cell_type": "code",
   "execution_count": 56,
   "id": "37129dc9",
   "metadata": {},
   "outputs": [
    {
     "data": {
      "text/plain": [
       "income\n",
       "57192     10\n",
       "95891     10\n",
       "95710     10\n",
       "97532      9\n",
       "98675      9\n",
       "          ..\n",
       "73141      1\n",
       "71524      1\n",
       "74408      1\n",
       "44780      1\n",
       "148828     1\n",
       "Name: count, Length: 108012, dtype: int64"
      ]
     },
     "execution_count": 56,
     "metadata": {},
     "output_type": "execute_result"
    }
   ],
   "source": [
    "df_cust['income'].value_counts(dropna = False)"
   ]
  },
  {
   "cell_type": "code",
   "execution_count": 57,
   "id": "a657ebb4",
   "metadata": {},
   "outputs": [
    {
     "data": {
      "text/plain": [
       "first_name\n",
       "NaN        11259\n",
       "Marilyn     2213\n",
       "Barbara     2154\n",
       "Todd        2113\n",
       "Jeremy      2104\n",
       "           ...  \n",
       "Merry        197\n",
       "Eugene       197\n",
       "Garry        191\n",
       "Ned          186\n",
       "David        186\n",
       "Name: count, Length: 208, dtype: int64"
      ]
     },
     "execution_count": 57,
     "metadata": {},
     "output_type": "execute_result"
    }
   ],
   "source": [
    "df_cust['first_name'].value_counts(dropna = False)"
   ]
  },
  {
   "cell_type": "code",
   "execution_count": 58,
   "id": "9bec8377",
   "metadata": {},
   "outputs": [
    {
     "data": {
      "text/html": [
       "<div>\n",
       "<style scoped>\n",
       "    .dataframe tbody tr th:only-of-type {\n",
       "        vertical-align: middle;\n",
       "    }\n",
       "\n",
       "    .dataframe tbody tr th {\n",
       "        vertical-align: top;\n",
       "    }\n",
       "\n",
       "    .dataframe thead th {\n",
       "        text-align: right;\n",
       "    }\n",
       "</style>\n",
       "<table border=\"1\" class=\"dataframe\">\n",
       "  <thead>\n",
       "    <tr style=\"text-align: right;\">\n",
       "      <th></th>\n",
       "      <th>user_id</th>\n",
       "      <th>first_name</th>\n",
       "      <th>last_name</th>\n",
       "      <th>gender</th>\n",
       "      <th>state</th>\n",
       "      <th>age</th>\n",
       "      <th>date_joined</th>\n",
       "      <th>num_of_dependants</th>\n",
       "      <th>marital_status</th>\n",
       "      <th>income</th>\n",
       "    </tr>\n",
       "  </thead>\n",
       "  <tbody>\n",
       "    <tr>\n",
       "      <th>0</th>\n",
       "      <td>26711</td>\n",
       "      <td>Deborah</td>\n",
       "      <td>Esquivel</td>\n",
       "      <td>Female</td>\n",
       "      <td>Missouri</td>\n",
       "      <td>48</td>\n",
       "      <td>1/1/2017</td>\n",
       "      <td>3</td>\n",
       "      <td>married</td>\n",
       "      <td>165665</td>\n",
       "    </tr>\n",
       "    <tr>\n",
       "      <th>1</th>\n",
       "      <td>33890</td>\n",
       "      <td>Patricia</td>\n",
       "      <td>Hart</td>\n",
       "      <td>Female</td>\n",
       "      <td>New Mexico</td>\n",
       "      <td>36</td>\n",
       "      <td>1/1/2017</td>\n",
       "      <td>0</td>\n",
       "      <td>single</td>\n",
       "      <td>59285</td>\n",
       "    </tr>\n",
       "    <tr>\n",
       "      <th>2</th>\n",
       "      <td>65803</td>\n",
       "      <td>Kenneth</td>\n",
       "      <td>Farley</td>\n",
       "      <td>Male</td>\n",
       "      <td>Idaho</td>\n",
       "      <td>35</td>\n",
       "      <td>1/1/2017</td>\n",
       "      <td>2</td>\n",
       "      <td>married</td>\n",
       "      <td>99568</td>\n",
       "    </tr>\n",
       "    <tr>\n",
       "      <th>3</th>\n",
       "      <td>125935</td>\n",
       "      <td>Michelle</td>\n",
       "      <td>Hicks</td>\n",
       "      <td>Female</td>\n",
       "      <td>Iowa</td>\n",
       "      <td>40</td>\n",
       "      <td>1/1/2017</td>\n",
       "      <td>0</td>\n",
       "      <td>single</td>\n",
       "      <td>42049</td>\n",
       "    </tr>\n",
       "    <tr>\n",
       "      <th>4</th>\n",
       "      <td>130797</td>\n",
       "      <td>Ann</td>\n",
       "      <td>Gilmore</td>\n",
       "      <td>Female</td>\n",
       "      <td>Maryland</td>\n",
       "      <td>26</td>\n",
       "      <td>1/1/2017</td>\n",
       "      <td>1</td>\n",
       "      <td>married</td>\n",
       "      <td>40374</td>\n",
       "    </tr>\n",
       "  </tbody>\n",
       "</table>\n",
       "</div>"
      ],
      "text/plain": [
       "   user_id first_name last_name  gender       state age date_joined  \\\n",
       "0    26711    Deborah  Esquivel  Female    Missouri  48    1/1/2017   \n",
       "1    33890   Patricia      Hart  Female  New Mexico  36    1/1/2017   \n",
       "2    65803    Kenneth    Farley    Male       Idaho  35    1/1/2017   \n",
       "3   125935   Michelle     Hicks  Female        Iowa  40    1/1/2017   \n",
       "4   130797        Ann   Gilmore  Female    Maryland  26    1/1/2017   \n",
       "\n",
       "  num_of_dependants marital_status  income  \n",
       "0                 3        married  165665  \n",
       "1                 0         single   59285  \n",
       "2                 2        married   99568  \n",
       "3                 0         single   42049  \n",
       "4                 1        married   40374  "
      ]
     },
     "execution_count": 58,
     "metadata": {},
     "output_type": "execute_result"
    }
   ],
   "source": [
    "df_cust.head()"
   ]
  },
  {
   "cell_type": "code",
   "execution_count": null,
   "id": "0e01309b",
   "metadata": {},
   "outputs": [],
   "source": [
    "                        # To check for mixed datatype in customer dataframe"
   ]
  },
  {
   "cell_type": "code",
   "execution_count": 59,
   "id": "1d79f9d9",
   "metadata": {},
   "outputs": [
    {
     "name": "stdout",
     "output_type": "stream",
     "text": [
      "first_name\n"
     ]
    }
   ],
   "source": [
    "for col in df_cust.columns.tolist():\n",
    "  weird = (df_cust[[col]].applymap(type) != df_cust[[col]].iloc[0].apply(type)).any(axis = 1)\n",
    "  if len (df_cust[weird]) > 0:\n",
    "    print (col)"
   ]
  },
  {
   "cell_type": "code",
   "execution_count": null,
   "id": "4b44e980",
   "metadata": {},
   "outputs": [],
   "source": [
    "# this shows first_name contains the mixed data type."
   ]
  },
  {
   "cell_type": "code",
   "execution_count": 60,
   "id": "4752f8d9",
   "metadata": {},
   "outputs": [
    {
     "data": {
      "text/plain": [
       "user_id                  0\n",
       "first_name           11259\n",
       "last_name                0\n",
       "gender                   0\n",
       "state                    0\n",
       "age                      0\n",
       "date_joined              0\n",
       "num_of_dependants        0\n",
       "marital_status           0\n",
       "income                   0\n",
       "dtype: int64"
      ]
     },
     "execution_count": 60,
     "metadata": {},
     "output_type": "execute_result"
    }
   ],
   "source": [
    "# To find if there are any missing values in customer dataframe\n",
    "df_cust.isnull().sum()"
   ]
  },
  {
   "cell_type": "code",
   "execution_count": 61,
   "id": "fa8366f6",
   "metadata": {},
   "outputs": [
    {
     "data": {
      "text/html": [
       "<div>\n",
       "<style scoped>\n",
       "    .dataframe tbody tr th:only-of-type {\n",
       "        vertical-align: middle;\n",
       "    }\n",
       "\n",
       "    .dataframe tbody tr th {\n",
       "        vertical-align: top;\n",
       "    }\n",
       "\n",
       "    .dataframe thead th {\n",
       "        text-align: right;\n",
       "    }\n",
       "</style>\n",
       "<table border=\"1\" class=\"dataframe\">\n",
       "  <thead>\n",
       "    <tr style=\"text-align: right;\">\n",
       "      <th></th>\n",
       "      <th>user_id</th>\n",
       "      <th>first_name</th>\n",
       "      <th>last_name</th>\n",
       "      <th>gender</th>\n",
       "      <th>state</th>\n",
       "      <th>age</th>\n",
       "      <th>date_joined</th>\n",
       "      <th>num_of_dependants</th>\n",
       "      <th>marital_status</th>\n",
       "      <th>income</th>\n",
       "    </tr>\n",
       "  </thead>\n",
       "  <tbody>\n",
       "    <tr>\n",
       "      <th>53</th>\n",
       "      <td>76659</td>\n",
       "      <td>NaN</td>\n",
       "      <td>Gilbert</td>\n",
       "      <td>Male</td>\n",
       "      <td>Colorado</td>\n",
       "      <td>26</td>\n",
       "      <td>1/1/2017</td>\n",
       "      <td>2</td>\n",
       "      <td>married</td>\n",
       "      <td>41709</td>\n",
       "    </tr>\n",
       "    <tr>\n",
       "      <th>73</th>\n",
       "      <td>13738</td>\n",
       "      <td>NaN</td>\n",
       "      <td>Frost</td>\n",
       "      <td>Female</td>\n",
       "      <td>Louisiana</td>\n",
       "      <td>39</td>\n",
       "      <td>1/1/2017</td>\n",
       "      <td>0</td>\n",
       "      <td>single</td>\n",
       "      <td>82518</td>\n",
       "    </tr>\n",
       "    <tr>\n",
       "      <th>82</th>\n",
       "      <td>89996</td>\n",
       "      <td>NaN</td>\n",
       "      <td>Dawson</td>\n",
       "      <td>Female</td>\n",
       "      <td>Oregon</td>\n",
       "      <td>52</td>\n",
       "      <td>1/1/2017</td>\n",
       "      <td>3</td>\n",
       "      <td>married</td>\n",
       "      <td>117099</td>\n",
       "    </tr>\n",
       "    <tr>\n",
       "      <th>99</th>\n",
       "      <td>96166</td>\n",
       "      <td>NaN</td>\n",
       "      <td>Oconnor</td>\n",
       "      <td>Male</td>\n",
       "      <td>Oklahoma</td>\n",
       "      <td>51</td>\n",
       "      <td>1/1/2017</td>\n",
       "      <td>1</td>\n",
       "      <td>married</td>\n",
       "      <td>155673</td>\n",
       "    </tr>\n",
       "    <tr>\n",
       "      <th>105</th>\n",
       "      <td>29778</td>\n",
       "      <td>NaN</td>\n",
       "      <td>Dawson</td>\n",
       "      <td>Female</td>\n",
       "      <td>Utah</td>\n",
       "      <td>63</td>\n",
       "      <td>1/1/2017</td>\n",
       "      <td>3</td>\n",
       "      <td>married</td>\n",
       "      <td>151819</td>\n",
       "    </tr>\n",
       "    <tr>\n",
       "      <th>...</th>\n",
       "      <td>...</td>\n",
       "      <td>...</td>\n",
       "      <td>...</td>\n",
       "      <td>...</td>\n",
       "      <td>...</td>\n",
       "      <td>...</td>\n",
       "      <td>...</td>\n",
       "      <td>...</td>\n",
       "      <td>...</td>\n",
       "      <td>...</td>\n",
       "    </tr>\n",
       "    <tr>\n",
       "      <th>206038</th>\n",
       "      <td>121317</td>\n",
       "      <td>NaN</td>\n",
       "      <td>Melton</td>\n",
       "      <td>Male</td>\n",
       "      <td>Pennsylvania</td>\n",
       "      <td>28</td>\n",
       "      <td>3/31/2020</td>\n",
       "      <td>3</td>\n",
       "      <td>married</td>\n",
       "      <td>87783</td>\n",
       "    </tr>\n",
       "    <tr>\n",
       "      <th>206044</th>\n",
       "      <td>200799</td>\n",
       "      <td>NaN</td>\n",
       "      <td>Copeland</td>\n",
       "      <td>Female</td>\n",
       "      <td>Hawaii</td>\n",
       "      <td>52</td>\n",
       "      <td>4/1/2020</td>\n",
       "      <td>2</td>\n",
       "      <td>married</td>\n",
       "      <td>108488</td>\n",
       "    </tr>\n",
       "    <tr>\n",
       "      <th>206090</th>\n",
       "      <td>167394</td>\n",
       "      <td>NaN</td>\n",
       "      <td>Frost</td>\n",
       "      <td>Female</td>\n",
       "      <td>Hawaii</td>\n",
       "      <td>61</td>\n",
       "      <td>4/1/2020</td>\n",
       "      <td>1</td>\n",
       "      <td>married</td>\n",
       "      <td>45275</td>\n",
       "    </tr>\n",
       "    <tr>\n",
       "      <th>206162</th>\n",
       "      <td>187532</td>\n",
       "      <td>NaN</td>\n",
       "      <td>Floyd</td>\n",
       "      <td>Female</td>\n",
       "      <td>California</td>\n",
       "      <td>39</td>\n",
       "      <td>4/1/2020</td>\n",
       "      <td>0</td>\n",
       "      <td>single</td>\n",
       "      <td>56325</td>\n",
       "    </tr>\n",
       "    <tr>\n",
       "      <th>206171</th>\n",
       "      <td>116898</td>\n",
       "      <td>NaN</td>\n",
       "      <td>Delgado</td>\n",
       "      <td>Female</td>\n",
       "      <td>Colorado</td>\n",
       "      <td>23</td>\n",
       "      <td>4/1/2020</td>\n",
       "      <td>2</td>\n",
       "      <td>married</td>\n",
       "      <td>59222</td>\n",
       "    </tr>\n",
       "  </tbody>\n",
       "</table>\n",
       "<p>11259 rows × 10 columns</p>\n",
       "</div>"
      ],
      "text/plain": [
       "        user_id first_name last_name  gender         state age date_joined  \\\n",
       "53        76659        NaN   Gilbert    Male      Colorado  26    1/1/2017   \n",
       "73        13738        NaN     Frost  Female     Louisiana  39    1/1/2017   \n",
       "82        89996        NaN    Dawson  Female        Oregon  52    1/1/2017   \n",
       "99        96166        NaN   Oconnor    Male      Oklahoma  51    1/1/2017   \n",
       "105       29778        NaN    Dawson  Female          Utah  63    1/1/2017   \n",
       "...         ...        ...       ...     ...           ...  ..         ...   \n",
       "206038   121317        NaN    Melton    Male  Pennsylvania  28   3/31/2020   \n",
       "206044   200799        NaN  Copeland  Female        Hawaii  52    4/1/2020   \n",
       "206090   167394        NaN     Frost  Female        Hawaii  61    4/1/2020   \n",
       "206162   187532        NaN     Floyd  Female    California  39    4/1/2020   \n",
       "206171   116898        NaN   Delgado  Female      Colorado  23    4/1/2020   \n",
       "\n",
       "       num_of_dependants marital_status  income  \n",
       "53                     2        married   41709  \n",
       "73                     0         single   82518  \n",
       "82                     3        married  117099  \n",
       "99                     1        married  155673  \n",
       "105                    3        married  151819  \n",
       "...                  ...            ...     ...  \n",
       "206038                 3        married   87783  \n",
       "206044                 2        married  108488  \n",
       "206090                 1        married   45275  \n",
       "206162                 0         single   56325  \n",
       "206171                 2        married   59222  \n",
       "\n",
       "[11259 rows x 10 columns]"
      ]
     },
     "execution_count": 61,
     "metadata": {},
     "output_type": "execute_result"
    }
   ],
   "source": [
    "#finding missing values\n",
    "df_cust.loc[df_cust['first_name'].isna()]"
   ]
  },
  {
   "cell_type": "code",
   "execution_count": 63,
   "id": "ac8c623f",
   "metadata": {},
   "outputs": [],
   "source": [
    "#addressing missing values is imputation\n",
    "df_cust['first_name'].fillna('Unknown', inplace = True)"
   ]
  },
  {
   "cell_type": "code",
   "execution_count": 64,
   "id": "6ffa2d2b",
   "metadata": {},
   "outputs": [
    {
     "data": {
      "text/plain": [
       "user_id              0\n",
       "first_name           0\n",
       "last_name            0\n",
       "gender               0\n",
       "state                0\n",
       "age                  0\n",
       "date_joined          0\n",
       "num_of_dependants    0\n",
       "marital_status       0\n",
       "income               0\n",
       "dtype: int64"
      ]
     },
     "execution_count": 64,
     "metadata": {},
     "output_type": "execute_result"
    }
   ],
   "source": [
    "#rechecking missing values\n",
    "df_cust.isnull().sum()"
   ]
  },
  {
   "cell_type": "code",
   "execution_count": 65,
   "id": "dc23ee31",
   "metadata": {},
   "outputs": [],
   "source": [
    "            # to find the duplicate rows\n",
    "    \n",
    "df_cust_dups = df_cust_clean[df_cust_clean.duplicated()]"
   ]
  },
  {
   "cell_type": "code",
   "execution_count": 66,
   "id": "6d09356c",
   "metadata": {},
   "outputs": [
    {
     "data": {
      "text/html": [
       "<div>\n",
       "<style scoped>\n",
       "    .dataframe tbody tr th:only-of-type {\n",
       "        vertical-align: middle;\n",
       "    }\n",
       "\n",
       "    .dataframe tbody tr th {\n",
       "        vertical-align: top;\n",
       "    }\n",
       "\n",
       "    .dataframe thead th {\n",
       "        text-align: right;\n",
       "    }\n",
       "</style>\n",
       "<table border=\"1\" class=\"dataframe\">\n",
       "  <thead>\n",
       "    <tr style=\"text-align: right;\">\n",
       "      <th></th>\n",
       "      <th>user_id</th>\n",
       "      <th>First Name</th>\n",
       "      <th>Last Name</th>\n",
       "      <th>Gender</th>\n",
       "      <th>State</th>\n",
       "      <th>Age</th>\n",
       "      <th>Joining_date</th>\n",
       "      <th>No_of_dependants</th>\n",
       "      <th>Family_status</th>\n",
       "      <th>Income</th>\n",
       "    </tr>\n",
       "  </thead>\n",
       "  <tbody>\n",
       "  </tbody>\n",
       "</table>\n",
       "</div>"
      ],
      "text/plain": [
       "Empty DataFrame\n",
       "Columns: [user_id, First Name, Last Name, Gender, State, Age, Joining_date, No_of_dependants, Family_status, Income]\n",
       "Index: []"
      ]
     },
     "execution_count": 66,
     "metadata": {},
     "output_type": "execute_result"
    }
   ],
   "source": [
    "df_cust_dups"
   ]
  },
  {
   "cell_type": "code",
   "execution_count": null,
   "id": "a1816a7d",
   "metadata": {},
   "outputs": [],
   "source": [
    "# This shows that there are no duplicate rows in the customer dataframe."
   ]
  },
  {
   "cell_type": "code",
   "execution_count": null,
   "id": "55afb439",
   "metadata": {},
   "outputs": [],
   "source": [
    "            ## Merge Customer with Instacart"
   ]
  },
  {
   "cell_type": "code",
   "execution_count": 67,
   "id": "7fa824ad",
   "metadata": {},
   "outputs": [
    {
     "data": {
      "text/html": [
       "<div>\n",
       "<style scoped>\n",
       "    .dataframe tbody tr th:only-of-type {\n",
       "        vertical-align: middle;\n",
       "    }\n",
       "\n",
       "    .dataframe tbody tr th {\n",
       "        vertical-align: top;\n",
       "    }\n",
       "\n",
       "    .dataframe thead th {\n",
       "        text-align: right;\n",
       "    }\n",
       "</style>\n",
       "<table border=\"1\" class=\"dataframe\">\n",
       "  <thead>\n",
       "    <tr style=\"text-align: right;\">\n",
       "      <th></th>\n",
       "      <th>user_id</th>\n",
       "      <th>first_name</th>\n",
       "      <th>last_name</th>\n",
       "      <th>gender</th>\n",
       "      <th>state</th>\n",
       "      <th>age</th>\n",
       "      <th>date_joined</th>\n",
       "      <th>num_of_dependants</th>\n",
       "      <th>marital_status</th>\n",
       "      <th>income</th>\n",
       "    </tr>\n",
       "  </thead>\n",
       "  <tbody>\n",
       "    <tr>\n",
       "      <th>0</th>\n",
       "      <td>26711</td>\n",
       "      <td>Deborah</td>\n",
       "      <td>Esquivel</td>\n",
       "      <td>Female</td>\n",
       "      <td>Missouri</td>\n",
       "      <td>48</td>\n",
       "      <td>1/1/2017</td>\n",
       "      <td>3</td>\n",
       "      <td>married</td>\n",
       "      <td>165665</td>\n",
       "    </tr>\n",
       "    <tr>\n",
       "      <th>1</th>\n",
       "      <td>33890</td>\n",
       "      <td>Patricia</td>\n",
       "      <td>Hart</td>\n",
       "      <td>Female</td>\n",
       "      <td>New Mexico</td>\n",
       "      <td>36</td>\n",
       "      <td>1/1/2017</td>\n",
       "      <td>0</td>\n",
       "      <td>single</td>\n",
       "      <td>59285</td>\n",
       "    </tr>\n",
       "    <tr>\n",
       "      <th>2</th>\n",
       "      <td>65803</td>\n",
       "      <td>Kenneth</td>\n",
       "      <td>Farley</td>\n",
       "      <td>Male</td>\n",
       "      <td>Idaho</td>\n",
       "      <td>35</td>\n",
       "      <td>1/1/2017</td>\n",
       "      <td>2</td>\n",
       "      <td>married</td>\n",
       "      <td>99568</td>\n",
       "    </tr>\n",
       "    <tr>\n",
       "      <th>3</th>\n",
       "      <td>125935</td>\n",
       "      <td>Michelle</td>\n",
       "      <td>Hicks</td>\n",
       "      <td>Female</td>\n",
       "      <td>Iowa</td>\n",
       "      <td>40</td>\n",
       "      <td>1/1/2017</td>\n",
       "      <td>0</td>\n",
       "      <td>single</td>\n",
       "      <td>42049</td>\n",
       "    </tr>\n",
       "    <tr>\n",
       "      <th>4</th>\n",
       "      <td>130797</td>\n",
       "      <td>Ann</td>\n",
       "      <td>Gilmore</td>\n",
       "      <td>Female</td>\n",
       "      <td>Maryland</td>\n",
       "      <td>26</td>\n",
       "      <td>1/1/2017</td>\n",
       "      <td>1</td>\n",
       "      <td>married</td>\n",
       "      <td>40374</td>\n",
       "    </tr>\n",
       "  </tbody>\n",
       "</table>\n",
       "</div>"
      ],
      "text/plain": [
       "   user_id first_name last_name  gender       state age date_joined  \\\n",
       "0    26711    Deborah  Esquivel  Female    Missouri  48    1/1/2017   \n",
       "1    33890   Patricia      Hart  Female  New Mexico  36    1/1/2017   \n",
       "2    65803    Kenneth    Farley    Male       Idaho  35    1/1/2017   \n",
       "3   125935   Michelle     Hicks  Female        Iowa  40    1/1/2017   \n",
       "4   130797        Ann   Gilmore  Female    Maryland  26    1/1/2017   \n",
       "\n",
       "  num_of_dependants marital_status  income  \n",
       "0                 3        married  165665  \n",
       "1                 0         single   59285  \n",
       "2                 2        married   99568  \n",
       "3                 0         single   42049  \n",
       "4                 1        married   40374  "
      ]
     },
     "execution_count": 67,
     "metadata": {},
     "output_type": "execute_result"
    }
   ],
   "source": [
    "df_cust.head()"
   ]
  },
  {
   "cell_type": "code",
   "execution_count": 68,
   "id": "29cbf2c3",
   "metadata": {},
   "outputs": [
    {
     "data": {
      "text/plain": [
       "(206209, 10)"
      ]
     },
     "execution_count": 68,
     "metadata": {},
     "output_type": "execute_result"
    }
   ],
   "source": [
    "df_cust.shape"
   ]
  },
  {
   "cell_type": "code",
   "execution_count": null,
   "id": "c172327f",
   "metadata": {},
   "outputs": [],
   "source": [
    "                 ## Exercise 4.9 - Number - 6 - Combining the datasets"
   ]
  },
  {
   "cell_type": "code",
   "execution_count": 21,
   "id": "df8192c4",
   "metadata": {},
   "outputs": [],
   "source": [
    "# Importing the dataframe orders_products_merged with os library\n",
    "\n",
    "df_ord_prd_comb1 = pd.read_pickle(os.path.join(path, '02 Data', \n",
    "                                   'Prepared Data', 'orders_products_with_flags.pkl'))\n"
   ]
  },
  {
   "cell_type": "code",
   "execution_count": 69,
   "id": "42062a04",
   "metadata": {},
   "outputs": [
    {
     "data": {
      "text/html": [
       "<div>\n",
       "<style scoped>\n",
       "    .dataframe tbody tr th:only-of-type {\n",
       "        vertical-align: middle;\n",
       "    }\n",
       "\n",
       "    .dataframe tbody tr th {\n",
       "        vertical-align: top;\n",
       "    }\n",
       "\n",
       "    .dataframe thead th {\n",
       "        text-align: right;\n",
       "    }\n",
       "</style>\n",
       "<table border=\"1\" class=\"dataframe\">\n",
       "  <thead>\n",
       "    <tr style=\"text-align: right;\">\n",
       "      <th></th>\n",
       "      <th>order_id</th>\n",
       "      <th>user_id</th>\n",
       "      <th>order_number</th>\n",
       "      <th>orders_day_of_week</th>\n",
       "      <th>order_hour_of_day</th>\n",
       "      <th>days_since_prior_order</th>\n",
       "      <th>product_id</th>\n",
       "      <th>add_to_cart_order</th>\n",
       "      <th>reordered</th>\n",
       "      <th>product_name</th>\n",
       "      <th>aisle_id</th>\n",
       "      <th>department_id</th>\n",
       "      <th>prices</th>\n",
       "      <th>max_order</th>\n",
       "      <th>loyalty_flag</th>\n",
       "      <th>mean_order</th>\n",
       "      <th>spending_flag</th>\n",
       "      <th>median_order</th>\n",
       "      <th>customer_flag</th>\n",
       "    </tr>\n",
       "  </thead>\n",
       "  <tbody>\n",
       "    <tr>\n",
       "      <th>0</th>\n",
       "      <td>2539329</td>\n",
       "      <td>1</td>\n",
       "      <td>1</td>\n",
       "      <td>2</td>\n",
       "      <td>8</td>\n",
       "      <td>11.0</td>\n",
       "      <td>196</td>\n",
       "      <td>1</td>\n",
       "      <td>0</td>\n",
       "      <td>Soda</td>\n",
       "      <td>77</td>\n",
       "      <td>7</td>\n",
       "      <td>9.0</td>\n",
       "      <td>10</td>\n",
       "      <td>New customer</td>\n",
       "      <td>6.367797</td>\n",
       "      <td>Low Spender</td>\n",
       "      <td>20.0</td>\n",
       "      <td>Regular customer</td>\n",
       "    </tr>\n",
       "    <tr>\n",
       "      <th>1</th>\n",
       "      <td>2398795</td>\n",
       "      <td>1</td>\n",
       "      <td>2</td>\n",
       "      <td>3</td>\n",
       "      <td>7</td>\n",
       "      <td>15.0</td>\n",
       "      <td>196</td>\n",
       "      <td>1</td>\n",
       "      <td>1</td>\n",
       "      <td>Soda</td>\n",
       "      <td>77</td>\n",
       "      <td>7</td>\n",
       "      <td>9.0</td>\n",
       "      <td>10</td>\n",
       "      <td>New customer</td>\n",
       "      <td>6.367797</td>\n",
       "      <td>Low Spender</td>\n",
       "      <td>20.0</td>\n",
       "      <td>Regular customer</td>\n",
       "    </tr>\n",
       "    <tr>\n",
       "      <th>2</th>\n",
       "      <td>473747</td>\n",
       "      <td>1</td>\n",
       "      <td>3</td>\n",
       "      <td>3</td>\n",
       "      <td>12</td>\n",
       "      <td>21.0</td>\n",
       "      <td>196</td>\n",
       "      <td>1</td>\n",
       "      <td>1</td>\n",
       "      <td>Soda</td>\n",
       "      <td>77</td>\n",
       "      <td>7</td>\n",
       "      <td>9.0</td>\n",
       "      <td>10</td>\n",
       "      <td>New customer</td>\n",
       "      <td>6.367797</td>\n",
       "      <td>Low Spender</td>\n",
       "      <td>20.0</td>\n",
       "      <td>Regular customer</td>\n",
       "    </tr>\n",
       "    <tr>\n",
       "      <th>3</th>\n",
       "      <td>2254736</td>\n",
       "      <td>1</td>\n",
       "      <td>4</td>\n",
       "      <td>4</td>\n",
       "      <td>7</td>\n",
       "      <td>29.0</td>\n",
       "      <td>196</td>\n",
       "      <td>1</td>\n",
       "      <td>1</td>\n",
       "      <td>Soda</td>\n",
       "      <td>77</td>\n",
       "      <td>7</td>\n",
       "      <td>9.0</td>\n",
       "      <td>10</td>\n",
       "      <td>New customer</td>\n",
       "      <td>6.367797</td>\n",
       "      <td>Low Spender</td>\n",
       "      <td>20.0</td>\n",
       "      <td>Regular customer</td>\n",
       "    </tr>\n",
       "    <tr>\n",
       "      <th>4</th>\n",
       "      <td>431534</td>\n",
       "      <td>1</td>\n",
       "      <td>5</td>\n",
       "      <td>4</td>\n",
       "      <td>15</td>\n",
       "      <td>28.0</td>\n",
       "      <td>196</td>\n",
       "      <td>1</td>\n",
       "      <td>1</td>\n",
       "      <td>Soda</td>\n",
       "      <td>77</td>\n",
       "      <td>7</td>\n",
       "      <td>9.0</td>\n",
       "      <td>10</td>\n",
       "      <td>New customer</td>\n",
       "      <td>6.367797</td>\n",
       "      <td>Low Spender</td>\n",
       "      <td>20.0</td>\n",
       "      <td>Regular customer</td>\n",
       "    </tr>\n",
       "  </tbody>\n",
       "</table>\n",
       "</div>"
      ],
      "text/plain": [
       "   order_id  user_id  order_number  orders_day_of_week  order_hour_of_day  \\\n",
       "0   2539329        1             1                   2                  8   \n",
       "1   2398795        1             2                   3                  7   \n",
       "2    473747        1             3                   3                 12   \n",
       "3   2254736        1             4                   4                  7   \n",
       "4    431534        1             5                   4                 15   \n",
       "\n",
       "   days_since_prior_order  product_id  add_to_cart_order  reordered  \\\n",
       "0                    11.0         196                  1          0   \n",
       "1                    15.0         196                  1          1   \n",
       "2                    21.0         196                  1          1   \n",
       "3                    29.0         196                  1          1   \n",
       "4                    28.0         196                  1          1   \n",
       "\n",
       "  product_name  aisle_id  department_id  prices  max_order  loyalty_flag  \\\n",
       "0         Soda        77              7     9.0         10  New customer   \n",
       "1         Soda        77              7     9.0         10  New customer   \n",
       "2         Soda        77              7     9.0         10  New customer   \n",
       "3         Soda        77              7     9.0         10  New customer   \n",
       "4         Soda        77              7     9.0         10  New customer   \n",
       "\n",
       "   mean_order spending_flag  median_order     customer_flag  \n",
       "0    6.367797   Low Spender          20.0  Regular customer  \n",
       "1    6.367797   Low Spender          20.0  Regular customer  \n",
       "2    6.367797   Low Spender          20.0  Regular customer  \n",
       "3    6.367797   Low Spender          20.0  Regular customer  \n",
       "4    6.367797   Low Spender          20.0  Regular customer  "
      ]
     },
     "execution_count": 69,
     "metadata": {},
     "output_type": "execute_result"
    }
   ],
   "source": [
    "df_ord_prd_comb1.head(5)"
   ]
  },
  {
   "cell_type": "code",
   "execution_count": null,
   "id": "85ca9722",
   "metadata": {},
   "outputs": [],
   "source": [
    "# From above , we can see that the two dataframes can be merged on user_id"
   ]
  },
  {
   "cell_type": "code",
   "execution_count": 75,
   "id": "9afa0601",
   "metadata": {},
   "outputs": [
    {
     "data": {
      "text/plain": [
       "(32404859, 19)"
      ]
     },
     "execution_count": 75,
     "metadata": {},
     "output_type": "execute_result"
    }
   ],
   "source": [
    "df_ord_prd_comb1.shape"
   ]
  },
  {
   "cell_type": "code",
   "execution_count": 76,
   "id": "d382478b",
   "metadata": {},
   "outputs": [],
   "source": [
    "# Merging the 'df_cust' and 'df_ord_prd_comb1' dataframe\n",
    "\n",
    "ords_prods_customer_merge = df_ord_prd_comb1.merge(df_cust, on = ['user_id'])"
   ]
  },
  {
   "cell_type": "code",
   "execution_count": 77,
   "id": "6d1a3973",
   "metadata": {},
   "outputs": [
    {
     "data": {
      "text/plain": [
       "(32404859, 28)"
      ]
     },
     "execution_count": 77,
     "metadata": {},
     "output_type": "execute_result"
    }
   ],
   "source": [
    "ords_prods_customer_merge.shape"
   ]
  },
  {
   "cell_type": "code",
   "execution_count": 78,
   "id": "6c8303e5",
   "metadata": {},
   "outputs": [
    {
     "data": {
      "text/plain": [
       "<bound method NDFrame.head of           order_id  user_id  order_number  orders_day_of_week  \\\n",
       "0          2539329        1             1                   2   \n",
       "1          2398795        1             2                   3   \n",
       "2           473747        1             3                   3   \n",
       "3          2254736        1             4                   4   \n",
       "4           431534        1             5                   4   \n",
       "...            ...      ...           ...                 ...   \n",
       "32404854    156685   106143            26                   4   \n",
       "32404855    484769    66343             1                   6   \n",
       "32404856   1561557    66343             2                   1   \n",
       "32404857    276317    66343             3                   6   \n",
       "32404858   2922475    66343             4                   1   \n",
       "\n",
       "          order_hour_of_day  days_since_prior_order  product_id  \\\n",
       "0                         8                    11.0         196   \n",
       "1                         7                    15.0         196   \n",
       "2                        12                    21.0         196   \n",
       "3                         7                    29.0         196   \n",
       "4                        15                    28.0         196   \n",
       "...                     ...                     ...         ...   \n",
       "32404854                 23                     5.0       19675   \n",
       "32404855                 11                    11.0       47210   \n",
       "32404856                 11                    30.0       47210   \n",
       "32404857                 15                    19.0       47210   \n",
       "32404858                 12                    30.0       47210   \n",
       "\n",
       "          add_to_cart_order  reordered                 product_name  ...  \\\n",
       "0                         1          0                         Soda  ...   \n",
       "1                         1          1                         Soda  ...   \n",
       "2                         1          1                         Soda  ...   \n",
       "3                         1          1                         Soda  ...   \n",
       "4                         1          1                         Soda  ...   \n",
       "...                     ...        ...                          ...  ...   \n",
       "32404854                  1          1  Organic Raspberry Black Tea  ...   \n",
       "32404855                  1          0  Fresh Farmed Tilapia Fillet  ...   \n",
       "32404856                  1          1  Fresh Farmed Tilapia Fillet  ...   \n",
       "32404857                  1          1  Fresh Farmed Tilapia Fillet  ...   \n",
       "32404858                  1          1  Fresh Farmed Tilapia Fillet  ...   \n",
       "\n",
       "                  customer_flag  first_name  last_name  gender      state  \\\n",
       "0              Regular customer       Linda     Nguyen  Female    Alabama   \n",
       "1              Regular customer       Linda     Nguyen  Female    Alabama   \n",
       "2              Regular customer       Linda     Nguyen  Female    Alabama   \n",
       "3              Regular customer       Linda     Nguyen  Female    Alabama   \n",
       "4              Regular customer       Linda     Nguyen  Female    Alabama   \n",
       "...                         ...         ...        ...     ...        ...   \n",
       "32404854      Frequent customer      Gerald      Yates    Male     Hawaii   \n",
       "32404855  Non-frequent customer  Jacqueline     Arroyo  Female  Tennessee   \n",
       "32404856  Non-frequent customer  Jacqueline     Arroyo  Female  Tennessee   \n",
       "32404857  Non-frequent customer  Jacqueline     Arroyo  Female  Tennessee   \n",
       "32404858  Non-frequent customer  Jacqueline     Arroyo  Female  Tennessee   \n",
       "\n",
       "          age date_joined  num_of_dependants marital_status income  \n",
       "0          31   2/17/2019                  3        married  40423  \n",
       "1          31   2/17/2019                  3        married  40423  \n",
       "2          31   2/17/2019                  3        married  40423  \n",
       "3          31   2/17/2019                  3        married  40423  \n",
       "4          31   2/17/2019                  3        married  40423  \n",
       "...       ...         ...                ...            ...    ...  \n",
       "32404854   25   5/26/2017                  0         single  53755  \n",
       "32404855   22   9/12/2017                  3        married  46151  \n",
       "32404856   22   9/12/2017                  3        married  46151  \n",
       "32404857   22   9/12/2017                  3        married  46151  \n",
       "32404858   22   9/12/2017                  3        married  46151  \n",
       "\n",
       "[32404859 rows x 28 columns]>"
      ]
     },
     "execution_count": 78,
     "metadata": {},
     "output_type": "execute_result"
    }
   ],
   "source": [
    "ords_prods_customer_merge.head"
   ]
  },
  {
   "cell_type": "code",
   "execution_count": 79,
   "id": "5f23bb74",
   "metadata": {},
   "outputs": [],
   "source": [
    "# Export the merged dataframe to pkl\n",
    "\n",
    "ords_prods_customer_merge.to_pickle(os.path.join(path, '02 Data','Prepared Data', 'orders_products_customers_merge.pkl'))"
   ]
  }
 ],
 "metadata": {
  "kernelspec": {
   "display_name": "Python 3 (ipykernel)",
   "language": "python",
   "name": "python3"
  },
  "language_info": {
   "codemirror_mode": {
    "name": "ipython",
    "version": 3
   },
   "file_extension": ".py",
   "mimetype": "text/x-python",
   "name": "python",
   "nbconvert_exporter": "python",
   "pygments_lexer": "ipython3",
   "version": "3.11.5"
  }
 },
 "nbformat": 4,
 "nbformat_minor": 5
}
