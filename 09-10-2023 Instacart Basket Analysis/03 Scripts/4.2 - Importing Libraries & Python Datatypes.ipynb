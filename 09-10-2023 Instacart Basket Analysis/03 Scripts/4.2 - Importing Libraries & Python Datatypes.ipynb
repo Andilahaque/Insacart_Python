{
 "cells": [
  {
   "cell_type": "markdown",
   "id": "5a9d7c5c",
   "metadata": {},
   "source": [
    "## Jupyter Fundamentals & Python Datatypes\n",
    "\n",
    "### Content\n",
    "\n",
    "#### 1.  Import Libraries\n",
    "#### 2. Work with different Python Data Types"
   ]
  },
  {
   "cell_type": "markdown",
   "id": "7857a20b",
   "metadata": {},
   "source": [
    "#01 Importing libraries"
   ]
  },
  {
   "cell_type": "code",
   "execution_count": 1,
   "id": "9461431a",
   "metadata": {},
   "outputs": [],
   "source": [
    "# Import New Libraries\n",
    "import pandas as pd\n",
    "import numpy as np\n",
    "import os"
   ]
  },
  {
   "cell_type": "code",
   "execution_count": 23,
   "id": "76e55bf7",
   "metadata": {},
   "outputs": [
    {
     "name": "stdout",
     "output_type": "stream",
     "text": [
      "100\n"
     ]
    }
   ],
   "source": [
    "## Working with Python Data Types\n",
    "# Code 3 different ways to reach a result of 100 by adding or subtracting\n",
    "\n",
    "# Way 1\n",
    "x=50\n",
    "y=50\n",
    "z = x+y\n",
    "print(z)\n",
    "\n"
   ]
  },
  {
   "cell_type": "code",
   "execution_count": 24,
   "id": "7f08dc0f",
   "metadata": {},
   "outputs": [
    {
     "name": "stdout",
     "output_type": "stream",
     "text": [
      "100\n"
     ]
    }
   ],
   "source": [
    "# Way 2\n",
    "a=150\n",
    "b = 50\n",
    "print(a-b)\n"
   ]
  },
  {
   "cell_type": "code",
   "execution_count": 25,
   "id": "63bfb501",
   "metadata": {},
   "outputs": [
    {
     "name": "stdout",
     "output_type": "stream",
     "text": [
      "100\n"
     ]
    }
   ],
   "source": [
    "# Way 3\n",
    "\n",
    "c= 20\n",
    "d= 5\n",
    "print(c*d)"
   ]
  },
  {
   "cell_type": "code",
   "execution_count": 26,
   "id": "aedc43d8",
   "metadata": {},
   "outputs": [
    {
     "name": "stdout",
     "output_type": "stream",
     "text": [
      "3.8127659574468087\n"
     ]
    }
   ],
   "source": [
    "# Code 2 floating-point variables and divide them by each other.\n",
    "\n",
    "x= 8.96\n",
    "y= 2.35\n",
    "print (x/y)"
   ]
  },
  {
   "cell_type": "code",
   "execution_count": 27,
   "id": "c537670e",
   "metadata": {},
   "outputs": [
    {
     "name": "stdout",
     "output_type": "stream",
     "text": [
      "Waschine Maschine\n"
     ]
    }
   ],
   "source": [
    "#Construct a short word made of separate strings \n",
    "\n",
    "a = 'Waschine '\n",
    "b = 'Maschine'\n",
    "print (a+b)"
   ]
  },
  {
   "cell_type": "code",
   "execution_count": 28,
   "id": "50ba0f84",
   "metadata": {},
   "outputs": [
    {
     "data": {
      "text/plain": [
       "'Hello,  My name is Tina'"
      ]
     },
     "execution_count": 28,
     "metadata": {},
     "output_type": "execute_result"
    }
   ],
   "source": [
    "#Construct 2 short sentences made of separate strings.\n",
    "\n",
    "# Sentence 1\n",
    "\n",
    "a = 'Hello, '\n",
    "b = ' My name is Tina'\n",
    "a+b"
   ]
  },
  {
   "cell_type": "code",
   "execution_count": 29,
   "id": "0e8f98cb",
   "metadata": {},
   "outputs": [
    {
     "data": {
      "text/plain": [
       "'I am on vacation, please leave a message after the beep'"
      ]
     },
     "execution_count": 29,
     "metadata": {},
     "output_type": "execute_result"
    }
   ],
   "source": [
    "#Sentence 2\n",
    "a = 'I am on vacation, '\n",
    "b = 'please leave a message after the beep'\n",
    "a+b\n"
   ]
  },
  {
   "cell_type": "code",
   "execution_count": 30,
   "id": "49b33ab7",
   "metadata": {},
   "outputs": [
    {
     "name": "stdout",
     "output_type": "stream",
     "text": [
      "HelloHelloHelloHelloHelloHelloHelloHelloHelloHelloHelloHelloHelloHelloHelloHelloHelloHelloHelloHelloHelloHelloHelloHelloHelloHelloHelloHelloHelloHelloHelloHelloHelloHelloHelloHelloHelloHelloHelloHelloHelloHelloHelloHelloHelloHelloHelloHelloHelloHelloHelloHelloHelloHelloHelloHelloHelloHelloHelloHelloHelloHelloHelloHelloHelloHelloHelloHelloHelloHelloHelloHelloHelloHelloHelloHelloHelloHelloHelloHelloHelloHelloHelloHelloHelloHelloHelloHelloHelloHelloHelloHelloHelloHelloHelloHelloHelloHelloHelloHello\n"
     ]
    }
   ],
   "source": [
    "#Bonus Task\n",
    "#At the bottom of your file, include a command that makes a string appear 100 times.\n",
    "\n",
    "a = 'Hello'\n",
    "print (a*100)"
   ]
  },
  {
   "cell_type": "code",
   "execution_count": null,
   "id": "a5b3694e",
   "metadata": {},
   "outputs": [],
   "source": []
  }
 ],
 "metadata": {
  "kernelspec": {
   "display_name": "Python 3 (ipykernel)",
   "language": "python",
   "name": "python3"
  },
  "language_info": {
   "codemirror_mode": {
    "name": "ipython",
    "version": 3
   },
   "file_extension": ".py",
   "mimetype": "text/x-python",
   "name": "python",
   "nbconvert_exporter": "python",
   "pygments_lexer": "ipython3",
   "version": "3.11.5"
  }
 },
 "nbformat": 4,
 "nbformat_minor": 5
}
